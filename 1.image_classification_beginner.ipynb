{
 "cells": [
  {
   "cell_type": "markdown",
   "metadata": {},
   "source": [
    "# Image Classification - Quick Start\n",
    "\n",
    ":label:`sec_imgquick`\n",
    "\n",
    "\n",
    "We adopt the task of Image Classification as a running example to illustrate basic usage of AutoGluon’s main APIs. This task involves a few steps which we demonstrate how to get started with AutoGluon. \n",
    "\n",
    "In this tutorial, we will load images and the corresponding labels into AutoGluon and use this data to obtain a neural network that can classify new images. Different from traditional machine learning where we need to manually define the neural network, and specify the hyperparameters in the training process, with just a single call to `AutoGluon`'s `fit` function, AutoGluon will automatically train many models with different hyperparameter configurations and return the best model.\n",
    "\n",
    "We begin by specifying `image_classification` as our task of interest:"
   ]
  },
  {
   "cell_type": "code",
   "execution_count": 1,
   "metadata": {},
   "outputs": [
    {
     "name": "stderr",
     "output_type": "stream",
     "text": [
      "/home/ubuntu/anaconda3/envs/mxnet_p36/lib/python3.6/site-packages/mxnet/optimizer/optimizer.py:167: UserWarning: WARNING: New optimizer gluonnlp.optimizer.lamb.LAMB is overriding existing optimizer mxnet.optimizer.optimizer.LAMB\n",
      "  Optimizer.opt_registry[name].__name__))\n"
     ]
    }
   ],
   "source": [
    "import autogluon as ag\n",
    "from autogluon import ImageClassification as task"
   ]
  },
  {
   "cell_type": "markdown",
   "metadata": {},
   "source": [
    "## Create AutoGluon Dataset\n",
    "\n",
    "Our image classification task is based on a subset of the [Shopee-IET dataset](https://www.kaggle.com/c/shopee-iet-machine-learning-competition/data) from Kaggle. Each image in this data depicts a clothing item and the corresponding label specifies its clothing category.\n",
    "Our subset of the data contains the following possible labels: `BabyPants`, `BabyShirt`, `womencasualshoes`, `womenchiffontop`.\n",
    "\n",
    "We download the data subset and unzip it via the following commands:"
   ]
  },
  {
   "cell_type": "code",
   "execution_count": 2,
   "metadata": {},
   "outputs": [],
   "source": [
    "filename = ag.download('https://autogluon.s3.amazonaws.com/datasets/shopee-iet.zip')\n",
    "ag.unzip(filename)"
   ]
  },
  {
   "cell_type": "markdown",
   "metadata": {},
   "source": [
    "Once the dataset resides on our machine, we load it into AutoGluon `Dataset`. Both image folder format and RecordIO format are supported. An example of image folder dataset format is illustrated here:\n",
    "```\n",
    "    train/\n",
    "    ├── class1/\n",
    "        ├── img1.jpg\n",
    "        ├── ...\n",
    "    ├── class2/\n",
    "    ├── ...\n",
    "```"
   ]
  },
  {
   "cell_type": "code",
   "execution_count": 3,
   "metadata": {},
   "outputs": [],
   "source": [
    "dataset = task.Dataset('data/train')"
   ]
  },
  {
   "cell_type": "markdown",
   "metadata": {},
   "source": [
    "## Use AutoGluon to Fit Models\n",
    "\n",
    "Now, we want to fit a classifier using AutoGluon:"
   ]
  },
  {
   "cell_type": "code",
   "execution_count": 4,
   "metadata": {},
   "outputs": [
    {
     "data": {
      "application/vnd.jupyter.widget-view+json": {
       "model_id": "223e866855f84ec08e23f9c090c5bbe3",
       "version_major": 2,
       "version_minor": 0
      },
      "text/plain": [
       "HBox(children=(IntProgress(value=0, max=2), HTML(value='')))"
      ]
     },
     "metadata": {},
     "output_type": "display_data"
    },
    {
     "name": "stderr",
     "output_type": "stream",
     "text": [
      "INFO:autogluon.task.image_classification.pipeline:{'dataset': Dataset ImageFolderDataset\n",
      "    Number of datapoints: 800\n",
      "    Root location: data/train, 'net': 'ResNet18_v1b', 'optimizer': <autogluon.core.optimizer.SGD object at 0x7fc7acda01d0>, 'lr_scheduler': 'cosine', 'loss': SoftmaxCrossEntropyLoss(batch_axis=0, w=None), 'metric': 'accuracy', 'num_gpus': 1, 'split_ratio': 0.8, 'batch_size': 64, 'input_size': 224, 'epochs': 10, 'verbose': True, 'num_workers': 4, 'hybridize': True, 'final_fit': False, 'task_id': 0}\n"
     ]
    },
    {
     "data": {
      "application/vnd.jupyter.widget-view+json": {
       "model_id": "7c26fee0e0ce42108b1a98ac6b775034",
       "version_major": 2,
       "version_minor": 0
      },
      "text/plain": [
       "VBox(children=(HBox(children=(IntProgress(value=0, max=10), HTML(value=''))), HTML(value='')))"
      ]
     },
     "metadata": {},
     "output_type": "display_data"
    },
    {
     "name": "stdout",
     "output_type": "stream",
     "text": [
      "\n",
      "\n"
     ]
    },
    {
     "name": "stderr",
     "output_type": "stream",
     "text": [
      "INFO:autogluon.task.image_classification.pipeline:{'dataset': Dataset ImageFolderDataset\n",
      "    Number of datapoints: 800\n",
      "    Root location: data/train, 'net': 'ResNet18_v1b', 'optimizer': <autogluon.core.optimizer.SGD object at 0x7fc7acb3d210>, 'lr_scheduler': 'cosine', 'loss': SoftmaxCrossEntropyLoss(batch_axis=0, w=None), 'metric': 'accuracy', 'num_gpus': 1, 'split_ratio': 0.8, 'batch_size': 64, 'input_size': 224, 'epochs': 10, 'verbose': True, 'num_workers': 4, 'hybridize': True, 'final_fit': False, 'task_id': 1}\n"
     ]
    },
    {
     "data": {
      "application/vnd.jupyter.widget-view+json": {
       "model_id": "c6acf75533704a2fa955cea2c9b95a2f",
       "version_major": 2,
       "version_minor": 0
      },
      "text/plain": [
       "VBox(children=(HBox(children=(IntProgress(value=0, max=10), HTML(value=''))), HTML(value='')))"
      ]
     },
     "metadata": {},
     "output_type": "display_data"
    },
    {
     "name": "stdout",
     "output_type": "stream",
     "text": [
      "\n"
     ]
    },
    {
     "name": "stderr",
     "output_type": "stream",
     "text": [
      "INFO:autogluon.task.image_classification.pipeline:{'dataset': Dataset ImageFolderDataset\n",
      "    Number of datapoints: 800\n",
      "    Root location: data/train, 'net': 'ResNet18_v1b', 'optimizer': <autogluon.core.optimizer.SGD object at 0x7fc7ac97f650>, 'lr_scheduler': 'cosine', 'loss': SoftmaxCrossEntropyLoss(batch_axis=0, w=None), 'metric': 'accuracy', 'num_gpus': 1, 'split_ratio': 0.8, 'batch_size': 64, 'input_size': 224, 'epochs': 10, 'verbose': True, 'num_workers': 4, 'hybridize': True, 'final_fit': True, 'task_id': 2}\n"
     ]
    },
    {
     "data": {
      "application/vnd.jupyter.widget-view+json": {
       "model_id": "f26d731ade734979b3b2103a81d7ab57",
       "version_major": 2,
       "version_minor": 0
      },
      "text/plain": [
       "VBox(children=(HBox(children=(IntProgress(value=0, max=10), HTML(value=''))), HTML(value='')))"
      ]
     },
     "metadata": {},
     "output_type": "display_data"
    },
    {
     "name": "stdout",
     "output_type": "stream",
     "text": [
      "\n"
     ]
    }
   ],
   "source": [
    "classifier = task.fit(dataset,\n",
    "                      epochs=10,\n",
    "                      ngpus_per_trial=1,\n",
    "                      verbose=True)"
   ]
  },
  {
   "cell_type": "markdown",
   "metadata": {},
   "source": [
    "Within `fit`, the dataset is automatically splited into training and validation sets.\n",
    "The model with the best hyperparameter configuration is selected based on its performance on validation set.\n",
    "The best model is finally retrained on our entire dataset (ie. merging training+validation) using the best configuration.\n",
    "\n",
    "The best Top-1 accuracy achieved on the validation set is:"
   ]
  },
  {
   "cell_type": "code",
   "execution_count": 5,
   "metadata": {},
   "outputs": [
    {
     "name": "stdout",
     "output_type": "stream",
     "text": [
      "Top-1 val acc: 0.706\n"
     ]
    }
   ],
   "source": [
    "print('Top-1 val acc: %.3f' % classifier.results['best_reward'])"
   ]
  },
  {
   "cell_type": "markdown",
   "metadata": {},
   "source": [
    "## Predict on A New Image\n",
    "\n",
    "Given an example image, we can easily use the final model to `predict` the label (and the conditional class-probability):"
   ]
  },
  {
   "cell_type": "code",
   "execution_count": 6,
   "metadata": {},
   "outputs": [
    {
     "data": {
      "image/png": "[encoded data removed]",
      "text/plain": [
       "<Figure size 432x288 with 1 Axes>"
      ]
     },
     "metadata": {
      "needs_background": "light"
     },
     "output_type": "display_data"
    },
    {
     "name": "stdout",
     "output_type": "stream",
     "text": [
      "The input picture is classified as [BabyShirt], with probability 0.70.\n"
     ]
    }
   ],
   "source": [
    "image = 'data/test/BabyShirt/BabyShirt_323.jpg'\n",
    "ind, prob = classifier.predict(image)\n",
    "\n",
    "print('The input picture is classified as [%s], with probability %.2f.' %\n",
    "      (dataset.init().classes[ind.asscalar()], prob.asscalar()))"
   ]
  },
  {
   "cell_type": "markdown",
   "metadata": {},
   "source": [
    "## Evaluate on Test Dataset\n",
    "\n",
    "We now evaluate the classifier on a test dataset:\n",
    "\n",
    "Load the test dataset:"
   ]
  },
  {
   "cell_type": "code",
   "execution_count": 7,
   "metadata": {},
   "outputs": [],
   "source": [
    "test_dataset = task.Dataset('data/test', train=False)"
   ]
  },
  {
   "cell_type": "markdown",
   "metadata": {},
   "source": [
    "The validation and test top-1 accuracy are:"
   ]
  },
  {
   "cell_type": "code",
   "execution_count": 8,
   "metadata": {},
   "outputs": [
    {
     "data": {
      "application/vnd.jupyter.widget-view+json": {
       "model_id": "8d699d515a0e4d1982074e8acffeba9d",
       "version_major": 2,
       "version_minor": 0
      },
      "text/plain": [
       "VBox(children=(HBox(children=(IntProgress(value=0, max=1), HTML(value=''))), HTML(value='')))"
      ]
     },
     "metadata": {},
     "output_type": "display_data"
    },
    {
     "name": "stdout",
     "output_type": "stream",
     "text": [
      "\n",
      "Top-1 test acc: 0.906\n"
     ]
    }
   ],
   "source": [
    "test_acc = classifier.evaluate(test_dataset)\n",
    "print('Top-1 test acc: %.3f' % test_acc)"
   ]
  },
  {
   "cell_type": "markdown",
   "metadata": {},
   "source": [
    "Finish and exit:"
   ]
  },
  {
   "cell_type": "code",
   "execution_count": 9,
   "metadata": {},
   "outputs": [],
   "source": [
    "ag.done()"
   ]
  },
  {
   "cell_type": "code",
   "execution_count": null,
   "metadata": {},
   "outputs": [],
   "source": []
  }
 ],
 "metadata": {
  "kernelspec": {
   "display_name": "Python [conda env:mxnet_p36] *",
   "language": "python",
   "name": "conda-env-mxnet_p36-py"
  },
  "language_info": {
   "codemirror_mode": {
    "name": "ipython",
    "version": 3
   },
   "file_extension": ".py",
   "mimetype": "text/x-python",
   "name": "python",
   "nbconvert_exporter": "python",
   "pygments_lexer": "ipython3",
   "version": "3.6.10"
  },
  "widgets": {
   "application/vnd.jupyter.widget-state+json": {
    "state": {
     "01d9cfcbfa284d33b8ecdb3ab563be4f": {
      "model_module": "@jupyter-widgets/controls",
      "model_module_version": "1.5.0",
      "model_name": "IntProgressModel",
      "state": {
       "bar_style": "success",
       "description": "[Epoch 10] Validation: 0.719: 100%",
       "layout": "IPY_MODEL_3422f43ce62b4596b471db348dcfb05a",
       "max": 10,
       "style": "IPY_MODEL_f579431b9142422cb602de64f9c41971",
       "value": 10
      }
     },
     "0359f302ab3e4382b47d9a364c7ae4e2": {
      "model_module": "@jupyter-widgets/base",
      "model_module_version": "1.2.0",
      "model_name": "LayoutModel",
      "state": {}
     },
     "07adeeb6d28e4fc9bc3d87c3a340943c": {
      "model_module": "@jupyter-widgets/controls",
      "model_module_version": "1.5.0",
      "model_name": "HBoxModel",
      "state": {
       "children": [
        "IPY_MODEL_01d9cfcbfa284d33b8ecdb3ab563be4f",
        "IPY_MODEL_6b8990dfac4f4ebeb0e028f0b802c2c9"
       ],
       "layout": "IPY_MODEL_0b2578a429ed4a4bb921d142f6f65d5d"
      }
     },
     "080ccde7e0914b9994899d60db0f736f": {
      "model_module": "@jupyter-widgets/base",
      "model_module_version": "1.2.0",
      "model_name": "LayoutModel",
      "state": {}
     },
     "097e2928515e47f7b0968a85606b463c": {
      "model_module": "@jupyter-widgets/controls",
      "model_module_version": "1.5.0",
      "model_name": "VBoxModel",
      "state": {
       "children": [
        "IPY_MODEL_7549d428e22044c9b1a5b009e794dd2f",
        "IPY_MODEL_9a7be6a8c79e4449923944591006a5d7"
       ],
       "layout": "IPY_MODEL_b125499a1a5049eb88ab0fe859e92824"
      }
     },
     "0a94001be2704d3383d20a0853f4f080": {
      "model_module": "@jupyter-widgets/controls",
      "model_module_version": "1.5.0",
      "model_name": "HTMLModel",
      "state": {
       "layout": "IPY_MODEL_1521394fc3254c38994aee9345d26e72",
       "style": "IPY_MODEL_583780ec7fdd41728f2adf2a6850c3c3"
      }
     },
     "0b2578a429ed4a4bb921d142f6f65d5d": {
      "model_module": "@jupyter-widgets/base",
      "model_module_version": "1.2.0",
      "model_name": "LayoutModel",
      "state": {}
     },
     "0b456dd0e7db4484bc1f034b061f889b": {
      "model_module": "@jupyter-widgets/controls",
      "model_module_version": "1.5.0",
      "model_name": "DescriptionStyleModel",
      "state": {
       "description_width": ""
      }
     },
     "0bd3f4aa76eb4929a3d8fd47164c4ffb": {
      "model_module": "@jupyter-widgets/controls",
      "model_module_version": "1.5.0",
      "model_name": "ProgressStyleModel",
      "state": {
       "description_width": "initial"
      }
     },
     "0c18c8611c2841aabfde113acaab4b07": {
      "model_module": "@jupyter-widgets/base",
      "model_module_version": "1.2.0",
      "model_name": "LayoutModel",
      "state": {}
     },
     "0da368d400be4eb687072d2cf4051a57": {
      "model_module": "@jupyter-widgets/controls",
      "model_module_version": "1.5.0",
      "model_name": "DescriptionStyleModel",
      "state": {
       "description_width": ""
      }
     },
     "0e4e5cf5ea5a43d99a81f4e3fe11d17e": {
      "model_module": "@jupyter-widgets/controls",
      "model_module_version": "1.5.0",
      "model_name": "IntProgressModel",
      "state": {
       "bar_style": "success",
       "description": "100%",
       "layout": "IPY_MODEL_da48d9536d914f628c5d373d36470ecc",
       "max": 10,
       "style": "IPY_MODEL_0bd3f4aa76eb4929a3d8fd47164c4ffb",
       "value": 10
      }
     },
     "0ed3ebe63f1e42d4b57a1dbfa141bdd4": {
      "model_module": "@jupyter-widgets/controls",
      "model_module_version": "1.5.0",
      "model_name": "ProgressStyleModel",
      "state": {
       "description_width": "initial"
      }
     },
     "1002b4713f864cf3b512e00728fae252": {
      "model_module": "@jupyter-widgets/controls",
      "model_module_version": "1.5.0",
      "model_name": "DescriptionStyleModel",
      "state": {
       "description_width": ""
      }
     },
     "11aa407a7bca4002880a0927ee50f602": {
      "model_module": "@jupyter-widgets/base",
      "model_module_version": "1.2.0",
      "model_name": "LayoutModel",
      "state": {}
     },
     "11c4a7ce156646f78f92838e72a1c470": {
      "model_module": "@jupyter-widgets/base",
      "model_module_version": "1.2.0",
      "model_name": "LayoutModel",
      "state": {}
     },
     "14241462acd646d08c12fd60c84ffead": {
      "model_module": "@jupyter-widgets/controls",
      "model_module_version": "1.5.0",
      "model_name": "HTMLModel",
      "state": {
       "layout": "IPY_MODEL_c3958eb5280d4e3b80d95ee5af4e131c",
       "style": "IPY_MODEL_4a9f70c9b6a747a99b61623933ac455e"
      }
     },
     "14c5a86cacc84723b50e45aac7e16056": {
      "model_module": "@jupyter-widgets/controls",
      "model_module_version": "1.5.0",
      "model_name": "DescriptionStyleModel",
      "state": {
       "description_width": ""
      }
     },
     "14f32380990840b6a9b4673cdf481d3d": {
      "model_module": "@jupyter-widgets/controls",
      "model_module_version": "1.5.0",
      "model_name": "IntProgressModel",
      "state": {
       "bar_style": "success",
       "description": "100%",
       "layout": "IPY_MODEL_4b210829d2f04cd889f7c68dc87b187a",
       "max": 10,
       "style": "IPY_MODEL_4283de7052df4c258a612b325d94147b",
       "value": 10
      }
     },
     "1521394fc3254c38994aee9345d26e72": {
      "model_module": "@jupyter-widgets/base",
      "model_module_version": "1.2.0",
      "model_name": "LayoutModel",
      "state": {}
     },
     "16bd9b69d96646f380f831521c0fb137": {
      "model_module": "@jupyter-widgets/base",
      "model_module_version": "1.2.0",
      "model_name": "LayoutModel",
      "state": {}
     },
     "17faab11d9c3494180be106697044df7": {
      "model_module": "@jupyter-widgets/base",
      "model_module_version": "1.2.0",
      "model_name": "LayoutModel",
      "state": {}
     },
     "184dd4e8a26f440eb0212240df6d7f97": {
      "model_module": "@jupyter-widgets/controls",
      "model_module_version": "1.5.0",
      "model_name": "ProgressStyleModel",
      "state": {
       "description_width": "initial"
      }
     },
     "19ba0eb2c837469e89aa46eb443fe703": {
      "model_module": "@jupyter-widgets/controls",
      "model_module_version": "1.5.0",
      "model_name": "ProgressStyleModel",
      "state": {
       "description_width": "initial"
      }
     },
     "1e2e5148396643d7baada81e73c8ea52": {
      "model_module": "@jupyter-widgets/base",
      "model_module_version": "1.2.0",
      "model_name": "LayoutModel",
      "state": {}
     },
     "1e66a41b0412430ab7ddc5d2ca50ea87": {
      "model_module": "@jupyter-widgets/controls",
      "model_module_version": "1.5.0",
      "model_name": "HTMLModel",
      "state": {
       "layout": "IPY_MODEL_3176ef6be7ce4a429436129a8a3bb268",
       "style": "IPY_MODEL_ee5b2e43a0c04c7f9d94be2cb36e44ad",
       "value": " 10/10 [00:48&lt;00:00,  4.80s/it]"
      }
     },
     "1edc99628d1f4d508a88cf73ca0b8656": {
      "model_module": "@jupyter-widgets/base",
      "model_module_version": "1.2.0",
      "model_name": "LayoutModel",
      "state": {}
     },
     "1ff104c6ea2f4c03919d466cffdd22d3": {
      "model_module": "@jupyter-widgets/controls",
      "model_module_version": "1.5.0",
      "model_name": "ProgressStyleModel",
      "state": {
       "description_width": "initial"
      }
     },
     "2043115274d44ad1888f926e94ccbd93": {
      "model_module": "@jupyter-widgets/base",
      "model_module_version": "1.2.0",
      "model_name": "LayoutModel",
      "state": {}
     },
     "20eeaace6f6542189d7aeccdcba04326": {
      "model_module": "@jupyter-widgets/controls",
      "model_module_version": "1.5.0",
      "model_name": "HTMLModel",
      "state": {
       "layout": "IPY_MODEL_41e295c2db1944bb8101a117f49d54bc",
       "style": "IPY_MODEL_0da368d400be4eb687072d2cf4051a57"
      }
     },
     "223db28c4dca47158d7010644b48493f": {
      "model_module": "@jupyter-widgets/base",
      "model_module_version": "1.2.0",
      "model_name": "LayoutModel",
      "state": {}
     },
     "223e866855f84ec08e23f9c090c5bbe3": {
      "model_module": "@jupyter-widgets/controls",
      "model_module_version": "1.5.0",
      "model_name": "HBoxModel",
      "state": {
       "children": [
        "IPY_MODEL_653775d376e64a11a7a319308a84fe67",
        "IPY_MODEL_5c75a8d4493b46e7ad7880313e97a9d3"
       ],
       "layout": "IPY_MODEL_bffe466df630419683bd42b9c80faf13"
      }
     },
     "23279dd34a3148309701c67a07ad473e": {
      "model_module": "@jupyter-widgets/controls",
      "model_module_version": "1.5.0",
      "model_name": "HBoxModel",
      "state": {
       "children": [
        "IPY_MODEL_6e6e94729eca4fc698082168ccb07da0",
        "IPY_MODEL_55f31af19a76470098101853aeff3bcd"
       ],
       "layout": "IPY_MODEL_c1b4f2af95e54e9f967016f8204e7039"
      }
     },
     "25a464ad8cea41648ba31ec7b4c6a364": {
      "model_module": "@jupyter-widgets/base",
      "model_module_version": "1.2.0",
      "model_name": "LayoutModel",
      "state": {}
     },
     "27ac5fbd17c4415488d81edd23486142": {
      "model_module": "@jupyter-widgets/controls",
      "model_module_version": "1.5.0",
      "model_name": "DescriptionStyleModel",
      "state": {
       "description_width": ""
      }
     },
     "28ea254d2f714a6b96d8e261dd325c35": {
      "model_module": "@jupyter-widgets/controls",
      "model_module_version": "1.5.0",
      "model_name": "ProgressStyleModel",
      "state": {
       "description_width": "initial"
      }
     },
     "2c149ef4318c42749e188e17cb08808f": {
      "model_module": "@jupyter-widgets/base",
      "model_module_version": "1.2.0",
      "model_name": "LayoutModel",
      "state": {}
     },
     "2e2e2e96339a4d9897fa02dacf19ad7b": {
      "model_module": "@jupyter-widgets/controls",
      "model_module_version": "1.5.0",
      "model_name": "HBoxModel",
      "state": {
       "children": [
        "IPY_MODEL_bbda126ca20e4347ad591eb3901311e1",
        "IPY_MODEL_a2f3bceb1ac44b3086355637971c689d"
       ],
       "layout": "IPY_MODEL_d89981a971734601a496de44111fe02f"
      }
     },
     "2ef1a0d867cf4eb99c53f2c6cf1fe348": {
      "model_module": "@jupyter-widgets/base",
      "model_module_version": "1.2.0",
      "model_name": "LayoutModel",
      "state": {}
     },
     "30a08515e11a483bb86ee630b184db26": {
      "model_module": "@jupyter-widgets/controls",
      "model_module_version": "1.5.0",
      "model_name": "HBoxModel",
      "state": {
       "children": [
        "IPY_MODEL_af19cc529ecd4c048ad1ad1e665d7384",
        "IPY_MODEL_88a95a0de3244951aebf45694496c304"
       ],
       "layout": "IPY_MODEL_9a2c995bbd73449ebdfeef9bb352c995"
      }
     },
     "30c7a00f781449829a3e74e84aa950d6": {
      "model_module": "@jupyter-widgets/base",
      "model_module_version": "1.2.0",
      "model_name": "LayoutModel",
      "state": {}
     },
     "3176ef6be7ce4a429436129a8a3bb268": {
      "model_module": "@jupyter-widgets/base",
      "model_module_version": "1.2.0",
      "model_name": "LayoutModel",
      "state": {}
     },
     "323d4b0f80854ffb967a477b2a52c1ce": {
      "model_module": "@jupyter-widgets/controls",
      "model_module_version": "1.5.0",
      "model_name": "VBoxModel",
      "state": {
       "children": [
        "IPY_MODEL_bbfd4470204341bdb40b8805a7bb21a7",
        "IPY_MODEL_0a94001be2704d3383d20a0853f4f080"
       ],
       "layout": "IPY_MODEL_4bb15e8832f4453e80c9c0d805afbc05"
      }
     },
     "32b4685f504a4d36a8932c9aae86adde": {
      "model_module": "@jupyter-widgets/base",
      "model_module_version": "1.2.0",
      "model_name": "LayoutModel",
      "state": {}
     },
     "32c65ef25cfc4250bb4ebdd4d006d701": {
      "model_module": "@jupyter-widgets/controls",
      "model_module_version": "1.5.0",
      "model_name": "HTMLModel",
      "state": {
       "layout": "IPY_MODEL_842ab4855b064ad8ab3d86b06f73ded4",
       "style": "IPY_MODEL_e11d6dcee8c047959b8e41796cdc4479"
      }
     },
     "32f88a8a121d4473a41903577b29b23d": {
      "model_module": "@jupyter-widgets/base",
      "model_module_version": "1.2.0",
      "model_name": "LayoutModel",
      "state": {}
     },
     "3351aafe7137456c95d149ddf29866d3": {
      "model_module": "@jupyter-widgets/controls",
      "model_module_version": "1.5.0",
      "model_name": "DescriptionStyleModel",
      "state": {
       "description_width": ""
      }
     },
     "3422f43ce62b4596b471db348dcfb05a": {
      "model_module": "@jupyter-widgets/base",
      "model_module_version": "1.2.0",
      "model_name": "LayoutModel",
      "state": {}
     },
     "350b931058e94bfb8458b4405b01c277": {
      "model_module": "@jupyter-widgets/controls",
      "model_module_version": "1.5.0",
      "model_name": "HTMLModel",
      "state": {
       "layout": "IPY_MODEL_4604de51cb124e29addb52184aa95b10",
       "style": "IPY_MODEL_c482f117c8ab48f7b9c0a892d3bebd3f"
      }
     },
     "3a8bb8ff50fc441a88c702ae5144e214": {
      "model_module": "@jupyter-widgets/controls",
      "model_module_version": "1.5.0",
      "model_name": "DescriptionStyleModel",
      "state": {
       "description_width": ""
      }
     },
     "3c4ef24d7f2542d5a551874ca7cd4ca3": {
      "model_module": "@jupyter-widgets/controls",
      "model_module_version": "1.5.0",
      "model_name": "HTMLModel",
      "state": {
       "layout": "IPY_MODEL_45fcea55141040d69450754b06e6c197",
       "style": "IPY_MODEL_14c5a86cacc84723b50e45aac7e16056",
       "value": " 10/10 [00:49&lt;00:00,  4.93s/it]"
      }
     },
     "3cff6f7850ac4bc8a8dfceb3d102514f": {
      "model_module": "@jupyter-widgets/controls",
      "model_module_version": "1.5.0",
      "model_name": "DescriptionStyleModel",
      "state": {
       "description_width": ""
      }
     },
     "3d8269b2eb6c4f90a876703adfc28429": {
      "model_module": "@jupyter-widgets/controls",
      "model_module_version": "1.5.0",
      "model_name": "DescriptionStyleModel",
      "state": {
       "description_width": ""
      }
     },
     "3eca586fcc70482db6335c4a40412e97": {
      "model_module": "@jupyter-widgets/controls",
      "model_module_version": "1.5.0",
      "model_name": "DescriptionStyleModel",
      "state": {
       "description_width": ""
      }
     },
     "40b7273c8f0c4e75b3129a06be5bc868": {
      "model_module": "@jupyter-widgets/controls",
      "model_module_version": "1.5.0",
      "model_name": "HBoxModel",
      "state": {
       "children": [
        "IPY_MODEL_e179c10d58e74db6b1a3454c58846263",
        "IPY_MODEL_7ad65609775c49eb84566edce8e6461e"
       ],
       "layout": "IPY_MODEL_af126115b01b42f0b3bb19df29c2850f"
      }
     },
     "415cedc22060403483f5356d93286e5e": {
      "model_module": "@jupyter-widgets/base",
      "model_module_version": "1.2.0",
      "model_name": "LayoutModel",
      "state": {}
     },
     "41e295c2db1944bb8101a117f49d54bc": {
      "model_module": "@jupyter-widgets/base",
      "model_module_version": "1.2.0",
      "model_name": "LayoutModel",
      "state": {}
     },
     "4283de7052df4c258a612b325d94147b": {
      "model_module": "@jupyter-widgets/controls",
      "model_module_version": "1.5.0",
      "model_name": "ProgressStyleModel",
      "state": {
       "description_width": "initial"
      }
     },
     "43db2286b77b4c5ba69630e5339faaf6": {
      "model_module": "@jupyter-widgets/controls",
      "model_module_version": "1.5.0",
      "model_name": "HTMLModel",
      "state": {
       "layout": "IPY_MODEL_e3c63d70c8984bc0a34e3fe824bcb671",
       "style": "IPY_MODEL_a6a234da915048dd9c9c20d25e14cbd5"
      }
     },
     "45fcea55141040d69450754b06e6c197": {
      "model_module": "@jupyter-widgets/base",
      "model_module_version": "1.2.0",
      "model_name": "LayoutModel",
      "state": {}
     },
     "4604de51cb124e29addb52184aa95b10": {
      "model_module": "@jupyter-widgets/base",
      "model_module_version": "1.2.0",
      "model_name": "LayoutModel",
      "state": {}
     },
     "474398b8f23a474aa5b78f013dc722f4": {
      "model_module": "@jupyter-widgets/controls",
      "model_module_version": "1.5.0",
      "model_name": "DescriptionStyleModel",
      "state": {
       "description_width": ""
      }
     },
     "4844a7597149419599387b83346b15cc": {
      "model_module": "@jupyter-widgets/controls",
      "model_module_version": "1.5.0",
      "model_name": "HTMLModel",
      "state": {
       "layout": "IPY_MODEL_dd7d02aac9b1441d878c7239c9b7a664",
       "style": "IPY_MODEL_934ac6d7b701447491349ccefaa74422",
       "value": " 1/1 [00:03&lt;00:00,  3.32s/it]"
      }
     },
     "4889cbd6ac324f7da9b9b6b9ed9ee412": {
      "model_module": "@jupyter-widgets/controls",
      "model_module_version": "1.5.0",
      "model_name": "DescriptionStyleModel",
      "state": {
       "description_width": ""
      }
     },
     "4a276c62e3ae495fa4b61ea32d9881f7": {
      "model_module": "@jupyter-widgets/controls",
      "model_module_version": "1.5.0",
      "model_name": "IntProgressModel",
      "state": {
       "bar_style": "success",
       "description": "[Epoch 10] Validation: 0.575: 100%",
       "layout": "IPY_MODEL_415cedc22060403483f5356d93286e5e",
       "max": 10,
       "style": "IPY_MODEL_28ea254d2f714a6b96d8e261dd325c35",
       "value": 10
      }
     },
     "4a9f70c9b6a747a99b61623933ac455e": {
      "model_module": "@jupyter-widgets/controls",
      "model_module_version": "1.5.0",
      "model_name": "DescriptionStyleModel",
      "state": {
       "description_width": ""
      }
     },
     "4b210829d2f04cd889f7c68dc87b187a": {
      "model_module": "@jupyter-widgets/base",
      "model_module_version": "1.2.0",
      "model_name": "LayoutModel",
      "state": {}
     },
     "4bb15e8832f4453e80c9c0d805afbc05": {
      "model_module": "@jupyter-widgets/base",
      "model_module_version": "1.2.0",
      "model_name": "LayoutModel",
      "state": {}
     },
     "4caf89a2ede343d39be85f444e3aa774": {
      "model_module": "@jupyter-widgets/base",
      "model_module_version": "1.2.0",
      "model_name": "LayoutModel",
      "state": {}
     },
     "4cc3a7e19b70453f809bb4f50573dfab": {
      "model_module": "@jupyter-widgets/controls",
      "model_module_version": "1.5.0",
      "model_name": "HTMLModel",
      "state": {
       "layout": "IPY_MODEL_79ae0a1ea9724c249cbb4d180919f127",
       "style": "IPY_MODEL_82c4342e869b4fc483009371c204d164",
       "value": " 1/1 [00:05&lt;00:00,  5.94s/it]"
      }
     },
     "50aea63a95ec4d6394db3c6d32dc4ca3": {
      "model_module": "@jupyter-widgets/controls",
      "model_module_version": "1.5.0",
      "model_name": "DescriptionStyleModel",
      "state": {
       "description_width": ""
      }
     },
     "532eba32202943eda6b164ef6f09845d": {
      "model_module": "@jupyter-widgets/controls",
      "model_module_version": "1.5.0",
      "model_name": "DescriptionStyleModel",
      "state": {
       "description_width": ""
      }
     },
     "536345f27dbf46c1a85ff2a130c289a2": {
      "model_module": "@jupyter-widgets/controls",
      "model_module_version": "1.5.0",
      "model_name": "HBoxModel",
      "state": {
       "children": [
        "IPY_MODEL_f061ac6f3c6d4304bfecd60ca1300228",
        "IPY_MODEL_5d989d7971e749d5b91eb79f6727f0b6"
       ],
       "layout": "IPY_MODEL_cceed64d997d40daa3a9450e11c6ff8d"
      }
     },
     "55f31af19a76470098101853aeff3bcd": {
      "model_module": "@jupyter-widgets/controls",
      "model_module_version": "1.5.0",
      "model_name": "HTMLModel",
      "state": {
       "layout": "IPY_MODEL_e5f576c210de4196a426e151a431b136",
       "style": "IPY_MODEL_5aad68ade756443c90303239ba47673f",
       "value": " 10/10 [01:07&lt;00:00,  6.74s/it]"
      }
     },
     "56287f9c87c84d66966262e75ef0264d": {
      "model_module": "@jupyter-widgets/base",
      "model_module_version": "1.2.0",
      "model_name": "LayoutModel",
      "state": {}
     },
     "583780ec7fdd41728f2adf2a6850c3c3": {
      "model_module": "@jupyter-widgets/controls",
      "model_module_version": "1.5.0",
      "model_name": "DescriptionStyleModel",
      "state": {
       "description_width": ""
      }
     },
     "5a7c421263934033bd16638773c27577": {
      "model_module": "@jupyter-widgets/controls",
      "model_module_version": "1.5.0",
      "model_name": "HTMLModel",
      "state": {
       "layout": "IPY_MODEL_752f4b0d41dc475d8936dea35087ffdb",
       "style": "IPY_MODEL_532eba32202943eda6b164ef6f09845d"
      }
     },
     "5aad68ade756443c90303239ba47673f": {
      "model_module": "@jupyter-widgets/controls",
      "model_module_version": "1.5.0",
      "model_name": "DescriptionStyleModel",
      "state": {
       "description_width": ""
      }
     },
     "5aed99ec8a66402cbc4e76cecac791cd": {
      "model_module": "@jupyter-widgets/controls",
      "model_module_version": "1.5.0",
      "model_name": "ProgressStyleModel",
      "state": {
       "description_width": "initial"
      }
     },
     "5c75a8d4493b46e7ad7880313e97a9d3": {
      "model_module": "@jupyter-widgets/controls",
      "model_module_version": "1.5.0",
      "model_name": "HTMLModel",
      "state": {
       "layout": "IPY_MODEL_8dd0b95eedd544a0ac5350b49357a9d9",
       "style": "IPY_MODEL_b84efe6c57d54f268dccd6d89d2820e0",
       "value": " 2/2 [02:38&lt;00:00, 79.04s/it]"
      }
     },
     "5d989d7971e749d5b91eb79f6727f0b6": {
      "model_module": "@jupyter-widgets/controls",
      "model_module_version": "1.5.0",
      "model_name": "HTMLModel",
      "state": {
       "layout": "IPY_MODEL_2043115274d44ad1888f926e94ccbd93",
       "style": "IPY_MODEL_7371fd393dc84b5e808622e428ca9070",
       "value": " 10/10 [00:47&lt;00:00,  4.80s/it]"
      }
     },
     "5eab55afbc5c42509da7ea008f655f1f": {
      "model_module": "@jupyter-widgets/controls",
      "model_module_version": "1.5.0",
      "model_name": "HTMLModel",
      "state": {
       "layout": "IPY_MODEL_4caf89a2ede343d39be85f444e3aa774",
       "style": "IPY_MODEL_e5fe8ba25ff84c449a0d2327b59ab1b1",
       "value": " 10/10 [01:09&lt;00:00,  6.91s/it]"
      }
     },
     "60f3be2e238746fd8336c2a75bbf303e": {
      "model_module": "@jupyter-widgets/controls",
      "model_module_version": "1.5.0",
      "model_name": "DescriptionStyleModel",
      "state": {
       "description_width": ""
      }
     },
     "62d84c6900134dd1a14d2d602448de27": {
      "model_module": "@jupyter-widgets/controls",
      "model_module_version": "1.5.0",
      "model_name": "VBoxModel",
      "state": {
       "children": [
        "IPY_MODEL_40b7273c8f0c4e75b3129a06be5bc868",
        "IPY_MODEL_43db2286b77b4c5ba69630e5339faaf6"
       ],
       "layout": "IPY_MODEL_f14281a939f142df9c7ab9970cf6de18"
      }
     },
     "638ff7d2e5be4d31b404dbfde0ef1b2c": {
      "model_module": "@jupyter-widgets/controls",
      "model_module_version": "1.5.0",
      "model_name": "VBoxModel",
      "state": {
       "children": [
        "IPY_MODEL_23279dd34a3148309701c67a07ad473e",
        "IPY_MODEL_5a7c421263934033bd16638773c27577"
       ],
       "layout": "IPY_MODEL_c1dcd385e6bf495bb1468fddee25c8ac"
      }
     },
     "63a8e321911a4af7897583ffb286b092": {
      "model_module": "@jupyter-widgets/base",
      "model_module_version": "1.2.0",
      "model_name": "LayoutModel",
      "state": {}
     },
     "6518397640c64b27b29413d43c664300": {
      "model_module": "@jupyter-widgets/base",
      "model_module_version": "1.2.0",
      "model_name": "LayoutModel",
      "state": {}
     },
     "653775d376e64a11a7a319308a84fe67": {
      "model_module": "@jupyter-widgets/controls",
      "model_module_version": "1.5.0",
      "model_name": "IntProgressModel",
      "state": {
       "bar_style": "success",
       "description": "100%",
       "layout": "IPY_MODEL_9d721df99eff428f95806884a760ceba",
       "max": 2,
       "style": "IPY_MODEL_8b5841bcb7974afbb2edbf07bbbf4a7a",
       "value": 2
      }
     },
     "667bc2f4c288461892d6230965e01d30": {
      "model_module": "@jupyter-widgets/controls",
      "model_module_version": "1.5.0",
      "model_name": "HTMLModel",
      "state": {
       "layout": "IPY_MODEL_0359f302ab3e4382b47d9a364c7ae4e2",
       "style": "IPY_MODEL_3a8bb8ff50fc441a88c702ae5144e214",
       "value": " 10/10 [01:03&lt;00:00,  6.38s/it]"
      }
     },
     "688e84420ff84e45bc707b3af528ce32": {
      "model_module": "@jupyter-widgets/controls",
      "model_module_version": "1.5.0",
      "model_name": "HTMLModel",
      "state": {
       "layout": "IPY_MODEL_e032d6044823418f8d5086495bf93089",
       "style": "IPY_MODEL_6aca285a7f6949d0b34b2287db0e5907",
       "value": " 10/10 [01:02&lt;00:00,  6.29s/it]"
      }
     },
     "695fe3f0f7d040c689b93f90d17060ec": {
      "model_module": "@jupyter-widgets/base",
      "model_module_version": "1.2.0",
      "model_name": "LayoutModel",
      "state": {}
     },
     "6aca285a7f6949d0b34b2287db0e5907": {
      "model_module": "@jupyter-widgets/controls",
      "model_module_version": "1.5.0",
      "model_name": "DescriptionStyleModel",
      "state": {
       "description_width": ""
      }
     },
     "6b35757838b64911bae05412d8c6bc72": {
      "model_module": "@jupyter-widgets/controls",
      "model_module_version": "1.5.0",
      "model_name": "HBoxModel",
      "state": {
       "children": [
        "IPY_MODEL_7fb1216f95634195ac300f1167c0c0c8",
        "IPY_MODEL_688e84420ff84e45bc707b3af528ce32"
       ],
       "layout": "IPY_MODEL_11c4a7ce156646f78f92838e72a1c470"
      }
     },
     "6b8990dfac4f4ebeb0e028f0b802c2c9": {
      "model_module": "@jupyter-widgets/controls",
      "model_module_version": "1.5.0",
      "model_name": "HTMLModel",
      "state": {
       "layout": "IPY_MODEL_32f88a8a121d4473a41903577b29b23d",
       "style": "IPY_MODEL_474398b8f23a474aa5b78f013dc722f4",
       "value": " 10/10 [00:46&lt;00:00,  4.65s/it]"
      }
     },
     "6d51e65254cb4141b1615aeb48529e7a": {
      "model_module": "@jupyter-widgets/controls",
      "model_module_version": "1.5.0",
      "model_name": "HTMLModel",
      "state": {
       "layout": "IPY_MODEL_223db28c4dca47158d7010644b48493f",
       "style": "IPY_MODEL_3eca586fcc70482db6335c4a40412e97"
      }
     },
     "6e6e94729eca4fc698082168ccb07da0": {
      "model_module": "@jupyter-widgets/controls",
      "model_module_version": "1.5.0",
      "model_name": "IntProgressModel",
      "state": {
       "bar_style": "success",
       "description": "100%",
       "layout": "IPY_MODEL_801fdfc8106645588ff4a38ade119541",
       "max": 10,
       "style": "IPY_MODEL_e8900689f672439f8374fd453062a3a9",
       "value": 10
      }
     },
     "6eb684a2906c40d39ef8ea13aa4da710": {
      "model_module": "@jupyter-widgets/base",
      "model_module_version": "1.2.0",
      "model_name": "LayoutModel",
      "state": {}
     },
     "6ebb1276a8fa46d08878e41991be7e9a": {
      "model_module": "@jupyter-widgets/controls",
      "model_module_version": "1.5.0",
      "model_name": "VBoxModel",
      "state": {
       "children": [
        "IPY_MODEL_9f312d8d15794c5892aff01d2bfdaa02",
        "IPY_MODEL_350b931058e94bfb8458b4405b01c277"
       ],
       "layout": "IPY_MODEL_2c149ef4318c42749e188e17cb08808f"
      }
     },
     "6f81326a4ef6465692df5a5961c10c24": {
      "model_module": "@jupyter-widgets/controls",
      "model_module_version": "1.5.0",
      "model_name": "VBoxModel",
      "state": {
       "children": [
        "IPY_MODEL_714ff3333b604400a5fefc106cd02b78",
        "IPY_MODEL_b481efeae0c34bfe8027cc072cc5aef5"
       ],
       "layout": "IPY_MODEL_9e76e2ccc5224940b95ff9721c04b21b"
      }
     },
     "714ff3333b604400a5fefc106cd02b78": {
      "model_module": "@jupyter-widgets/controls",
      "model_module_version": "1.5.0",
      "model_name": "HBoxModel",
      "state": {
       "children": [
        "IPY_MODEL_fde52457d9da460186f749cd6c3022a8",
        "IPY_MODEL_4cc3a7e19b70453f809bb4f50573dfab"
       ],
       "layout": "IPY_MODEL_7cd247e365354b23947dd3ed7afa55ee"
      }
     },
     "71a6a3ed39cb49048217582d33c0ad97": {
      "model_module": "@jupyter-widgets/base",
      "model_module_version": "1.2.0",
      "model_name": "LayoutModel",
      "state": {}
     },
     "7371fd393dc84b5e808622e428ca9070": {
      "model_module": "@jupyter-widgets/controls",
      "model_module_version": "1.5.0",
      "model_name": "DescriptionStyleModel",
      "state": {
       "description_width": ""
      }
     },
     "747be47723d24215a5d8ad46cc078d0b": {
      "model_module": "@jupyter-widgets/controls",
      "model_module_version": "1.5.0",
      "model_name": "HBoxModel",
      "state": {
       "children": [
        "IPY_MODEL_0e4e5cf5ea5a43d99a81f4e3fe11d17e",
        "IPY_MODEL_3c4ef24d7f2542d5a551874ca7cd4ca3"
       ],
       "layout": "IPY_MODEL_1e2e5148396643d7baada81e73c8ea52"
      }
     },
     "752f4b0d41dc475d8936dea35087ffdb": {
      "model_module": "@jupyter-widgets/base",
      "model_module_version": "1.2.0",
      "model_name": "LayoutModel",
      "state": {}
     },
     "7549d428e22044c9b1a5b009e794dd2f": {
      "model_module": "@jupyter-widgets/controls",
      "model_module_version": "1.5.0",
      "model_name": "HBoxModel",
      "state": {
       "children": [
        "IPY_MODEL_75f3c0398ed742cdb313c4d8d9d9dbb4",
        "IPY_MODEL_d376dfb01a77437b94fa7eadf24d978a"
       ],
       "layout": "IPY_MODEL_16bd9b69d96646f380f831521c0fb137"
      }
     },
     "75f3c0398ed742cdb313c4d8d9d9dbb4": {
      "model_module": "@jupyter-widgets/controls",
      "model_module_version": "1.5.0",
      "model_name": "IntProgressModel",
      "state": {
       "bar_style": "success",
       "description": "100%",
       "layout": "IPY_MODEL_9ca037db17204b518143a0d933930caf",
       "max": 40895,
       "style": "IPY_MODEL_d3fa816ee0b34f038ffe229fed320044",
       "value": 40895
      }
     },
     "762ca5246b464081a55b3c0c2a46992e": {
      "model_module": "@jupyter-widgets/base",
      "model_module_version": "1.2.0",
      "model_name": "LayoutModel",
      "state": {}
     },
     "7930b3ae473145e2849a4939b0999fea": {
      "model_module": "@jupyter-widgets/controls",
      "model_module_version": "1.5.0",
      "model_name": "ProgressStyleModel",
      "state": {
       "description_width": "initial"
      }
     },
     "79ae0a1ea9724c249cbb4d180919f127": {
      "model_module": "@jupyter-widgets/base",
      "model_module_version": "1.2.0",
      "model_name": "LayoutModel",
      "state": {}
     },
     "79c2dabbcef64214a22f1a303e8f4436": {
      "model_module": "@jupyter-widgets/controls",
      "model_module_version": "1.5.0",
      "model_name": "DescriptionStyleModel",
      "state": {
       "description_width": ""
      }
     },
     "79f424c3238f4e0fb5fe93fa8142d9fc": {
      "model_module": "@jupyter-widgets/base",
      "model_module_version": "1.2.0",
      "model_name": "LayoutModel",
      "state": {}
     },
     "7ad65609775c49eb84566edce8e6461e": {
      "model_module": "@jupyter-widgets/controls",
      "model_module_version": "1.5.0",
      "model_name": "HTMLModel",
      "state": {
       "layout": "IPY_MODEL_63a8e321911a4af7897583ffb286b092",
       "style": "IPY_MODEL_50aea63a95ec4d6394db3c6d32dc4ca3",
       "value": " 1/1 [00:06&lt;00:00,  6.06s/it]"
      }
     },
     "7b52fe54a31d44849295f0d32e05dfde": {
      "model_module": "@jupyter-widgets/controls",
      "model_module_version": "1.5.0",
      "model_name": "ProgressStyleModel",
      "state": {
       "description_width": "initial"
      }
     },
     "7c26fee0e0ce42108b1a98ac6b775034": {
      "model_module": "@jupyter-widgets/controls",
      "model_module_version": "1.5.0",
      "model_name": "VBoxModel",
      "state": {
       "children": [
        "IPY_MODEL_2e2e2e96339a4d9897fa02dacf19ad7b",
        "IPY_MODEL_edec649418354e139ff51e370727c1d9"
       ],
       "layout": "IPY_MODEL_71a6a3ed39cb49048217582d33c0ad97"
      }
     },
     "7cd247e365354b23947dd3ed7afa55ee": {
      "model_module": "@jupyter-widgets/base",
      "model_module_version": "1.2.0",
      "model_name": "LayoutModel",
      "state": {}
     },
     "7fb1216f95634195ac300f1167c0c0c8": {
      "model_module": "@jupyter-widgets/controls",
      "model_module_version": "1.5.0",
      "model_name": "IntProgressModel",
      "state": {
       "bar_style": "success",
       "description": "[Epoch 10] Validation: 0.725: 100%",
       "layout": "IPY_MODEL_30c7a00f781449829a3e74e84aa950d6",
       "max": 10,
       "style": "IPY_MODEL_7930b3ae473145e2849a4939b0999fea",
       "value": 10
      }
     },
     "801fdfc8106645588ff4a38ade119541": {
      "model_module": "@jupyter-widgets/base",
      "model_module_version": "1.2.0",
      "model_name": "LayoutModel",
      "state": {}
     },
     "805fcf5d01034fe6a2c68104aefef421": {
      "model_module": "@jupyter-widgets/controls",
      "model_module_version": "1.5.0",
      "model_name": "HBoxModel",
      "state": {
       "children": [
        "IPY_MODEL_4a276c62e3ae495fa4b61ea32d9881f7",
        "IPY_MODEL_1e66a41b0412430ab7ddc5d2ca50ea87"
       ],
       "layout": "IPY_MODEL_6518397640c64b27b29413d43c664300"
      }
     },
     "82c4342e869b4fc483009371c204d164": {
      "model_module": "@jupyter-widgets/controls",
      "model_module_version": "1.5.0",
      "model_name": "DescriptionStyleModel",
      "state": {
       "description_width": ""
      }
     },
     "842ab4855b064ad8ab3d86b06f73ded4": {
      "model_module": "@jupyter-widgets/base",
      "model_module_version": "1.2.0",
      "model_name": "LayoutModel",
      "state": {}
     },
     "85f48c991e36417fafe41c4f5ec76bff": {
      "model_module": "@jupyter-widgets/base",
      "model_module_version": "1.2.0",
      "model_name": "LayoutModel",
      "state": {}
     },
     "88458be8561440b7b9cd84bcb29a5caa": {
      "model_module": "@jupyter-widgets/controls",
      "model_module_version": "1.5.0",
      "model_name": "ProgressStyleModel",
      "state": {
       "description_width": "initial"
      }
     },
     "88a95a0de3244951aebf45694496c304": {
      "model_module": "@jupyter-widgets/controls",
      "model_module_version": "1.5.0",
      "model_name": "HTMLModel",
      "state": {
       "layout": "IPY_MODEL_e1723ca6fc9446f0a8aebae14106682d",
       "style": "IPY_MODEL_60f3be2e238746fd8336c2a75bbf303e",
       "value": " 2/2 [03:15&lt;00:00, 97.64s/it]"
      }
     },
     "8a585d2751464ad4a6e3a1431b0821c0": {
      "model_module": "@jupyter-widgets/controls",
      "model_module_version": "1.5.0",
      "model_name": "IntProgressModel",
      "state": {
       "bar_style": "success",
       "description": "100%",
       "layout": "IPY_MODEL_d61ef3b9f427472fa54b3dedda57dfe2",
       "max": 40895,
       "style": "IPY_MODEL_c36d4d350bb446c7a364c315e3601a4c",
       "value": 40895
      }
     },
     "8b5841bcb7974afbb2edbf07bbbf4a7a": {
      "model_module": "@jupyter-widgets/controls",
      "model_module_version": "1.5.0",
      "model_name": "ProgressStyleModel",
      "state": {
       "description_width": "initial"
      }
     },
     "8d699d515a0e4d1982074e8acffeba9d": {
      "model_module": "@jupyter-widgets/controls",
      "model_module_version": "1.5.0",
      "model_name": "VBoxModel",
      "state": {
       "children": [
        "IPY_MODEL_b0f4e1b7de13402faadcc3fba8118f05",
        "IPY_MODEL_32c65ef25cfc4250bb4ebdd4d006d701"
       ],
       "layout": "IPY_MODEL_0c18c8611c2841aabfde113acaab4b07"
      }
     },
     "8dd0b95eedd544a0ac5350b49357a9d9": {
      "model_module": "@jupyter-widgets/base",
      "model_module_version": "1.2.0",
      "model_name": "LayoutModel",
      "state": {}
     },
     "8f3231ea2d7f483a844c9d5dde0234b7": {
      "model_module": "@jupyter-widgets/controls",
      "model_module_version": "1.5.0",
      "model_name": "HTMLModel",
      "state": {
       "layout": "IPY_MODEL_f7a00ee41aaf40188ae6268744367afb",
       "style": "IPY_MODEL_fae4f7513c6745eca92df0197b0b8c07"
      }
     },
     "913762445a3d4fada78ca24b2a397d1e": {
      "model_module": "@jupyter-widgets/controls",
      "model_module_version": "1.5.0",
      "model_name": "IntProgressModel",
      "state": {
       "bar_style": "success",
       "description": "[Epoch 10] Validation: 0.662: 100%",
       "layout": "IPY_MODEL_a4d7def7985241968adb9270a2f325d3",
       "max": 10,
       "style": "IPY_MODEL_0ed3ebe63f1e42d4b57a1dbfa141bdd4",
       "value": 10
      }
     },
     "934ac6d7b701447491349ccefaa74422": {
      "model_module": "@jupyter-widgets/controls",
      "model_module_version": "1.5.0",
      "model_name": "DescriptionStyleModel",
      "state": {
       "description_width": ""
      }
     },
     "93c50e67c55c40779b625949df168c79": {
      "model_module": "@jupyter-widgets/controls",
      "model_module_version": "1.5.0",
      "model_name": "HBoxModel",
      "state": {
       "children": [
        "IPY_MODEL_f09d3bfeb9a24b49b3105b2f166a70ee",
        "IPY_MODEL_e77cee995ab14b788ebb76074f805354"
       ],
       "layout": "IPY_MODEL_1edc99628d1f4d508a88cf73ca0b8656"
      }
     },
     "9a2c995bbd73449ebdfeef9bb352c995": {
      "model_module": "@jupyter-widgets/base",
      "model_module_version": "1.2.0",
      "model_name": "LayoutModel",
      "state": {}
     },
     "9a7be6a8c79e4449923944591006a5d7": {
      "model_module": "@jupyter-widgets/controls",
      "model_module_version": "1.5.0",
      "model_name": "HTMLModel",
      "state": {
       "layout": "IPY_MODEL_2ef1a0d867cf4eb99c53f2c6cf1fe348",
       "style": "IPY_MODEL_4889cbd6ac324f7da9b9b6b9ed9ee412"
      }
     },
     "9ca037db17204b518143a0d933930caf": {
      "model_module": "@jupyter-widgets/base",
      "model_module_version": "1.2.0",
      "model_name": "LayoutModel",
      "state": {
       "flex": "2"
      }
     },
     "9d721df99eff428f95806884a760ceba": {
      "model_module": "@jupyter-widgets/base",
      "model_module_version": "1.2.0",
      "model_name": "LayoutModel",
      "state": {}
     },
     "9e76e2ccc5224940b95ff9721c04b21b": {
      "model_module": "@jupyter-widgets/base",
      "model_module_version": "1.2.0",
      "model_name": "LayoutModel",
      "state": {}
     },
     "9f312d8d15794c5892aff01d2bfdaa02": {
      "model_module": "@jupyter-widgets/controls",
      "model_module_version": "1.5.0",
      "model_name": "HBoxModel",
      "state": {
       "children": [
        "IPY_MODEL_913762445a3d4fada78ca24b2a397d1e",
        "IPY_MODEL_667bc2f4c288461892d6230965e01d30"
       ],
       "layout": "IPY_MODEL_85f48c991e36417fafe41c4f5ec76bff"
      }
     },
     "a2f3bceb1ac44b3086355637971c689d": {
      "model_module": "@jupyter-widgets/controls",
      "model_module_version": "1.5.0",
      "model_name": "HTMLModel",
      "state": {
       "layout": "IPY_MODEL_b8bfc8f5d68d4837bb04806f04f53b42",
       "style": "IPY_MODEL_c5fc4679c9724eaa8c79126527b4f218",
       "value": " 10/10 [00:46&lt;00:00,  4.69s/it]"
      }
     },
     "a4d7def7985241968adb9270a2f325d3": {
      "model_module": "@jupyter-widgets/base",
      "model_module_version": "1.2.0",
      "model_name": "LayoutModel",
      "state": {}
     },
     "a6a234da915048dd9c9c20d25e14cbd5": {
      "model_module": "@jupyter-widgets/controls",
      "model_module_version": "1.5.0",
      "model_name": "DescriptionStyleModel",
      "state": {
       "description_width": ""
      }
     },
     "ad9cbf843d9f4d4f89ab133c9f7e2e5d": {
      "model_module": "@jupyter-widgets/controls",
      "model_module_version": "1.5.0",
      "model_name": "HTMLModel",
      "state": {
       "layout": "IPY_MODEL_d35dbf13e7254effad04761352f143d2",
       "style": "IPY_MODEL_0b456dd0e7db4484bc1f034b061f889b"
      }
     },
     "af126115b01b42f0b3bb19df29c2850f": {
      "model_module": "@jupyter-widgets/base",
      "model_module_version": "1.2.0",
      "model_name": "LayoutModel",
      "state": {}
     },
     "af19cc529ecd4c048ad1ad1e665d7384": {
      "model_module": "@jupyter-widgets/controls",
      "model_module_version": "1.5.0",
      "model_name": "IntProgressModel",
      "state": {
       "bar_style": "success",
       "description": "100%",
       "layout": "IPY_MODEL_f6158ae51d894ce5bd7c8da704a596e6",
       "max": 2,
       "style": "IPY_MODEL_7b52fe54a31d44849295f0d32e05dfde",
       "value": 2
      }
     },
     "b0f4e1b7de13402faadcc3fba8118f05": {
      "model_module": "@jupyter-widgets/controls",
      "model_module_version": "1.5.0",
      "model_name": "HBoxModel",
      "state": {
       "children": [
        "IPY_MODEL_f9d01b5ef9bd47cb8df833979372e032",
        "IPY_MODEL_4844a7597149419599387b83346b15cc"
       ],
       "layout": "IPY_MODEL_11aa407a7bca4002880a0927ee50f602"
      }
     },
     "b125499a1a5049eb88ab0fe859e92824": {
      "model_module": "@jupyter-widgets/base",
      "model_module_version": "1.2.0",
      "model_name": "LayoutModel",
      "state": {
       "display": "inline-flex",
       "flex_flow": "row wrap",
       "width": "100%"
      }
     },
     "b3b48d7bfafc427ebbb1c6a2ec633241": {
      "model_module": "@jupyter-widgets/controls",
      "model_module_version": "1.5.0",
      "model_name": "VBoxModel",
      "state": {
       "children": [
        "IPY_MODEL_805fcf5d01034fe6a2c68104aefef421",
        "IPY_MODEL_ca8378bfbc3249b192e1fa377c303ac9"
       ],
       "layout": "IPY_MODEL_6eb684a2906c40d39ef8ea13aa4da710"
      }
     },
     "b481efeae0c34bfe8027cc072cc5aef5": {
      "model_module": "@jupyter-widgets/controls",
      "model_module_version": "1.5.0",
      "model_name": "HTMLModel",
      "state": {
       "layout": "IPY_MODEL_cf6517649c564070a1cc4895854bb5af",
       "style": "IPY_MODEL_3d8269b2eb6c4f90a876703adfc28429"
      }
     },
     "b4c578bf705641f584d9f13581fff92d": {
      "model_module": "@jupyter-widgets/base",
      "model_module_version": "1.2.0",
      "model_name": "LayoutModel",
      "state": {}
     },
     "b6afcefc627d4fb3b4edf32d56db1f87": {
      "model_module": "@jupyter-widgets/base",
      "model_module_version": "1.2.0",
      "model_name": "LayoutModel",
      "state": {}
     },
     "b84efe6c57d54f268dccd6d89d2820e0": {
      "model_module": "@jupyter-widgets/controls",
      "model_module_version": "1.5.0",
      "model_name": "DescriptionStyleModel",
      "state": {
       "description_width": ""
      }
     },
     "b86a793be19941589e007912248b01a3": {
      "model_module": "@jupyter-widgets/controls",
      "model_module_version": "1.5.0",
      "model_name": "VBoxModel",
      "state": {
       "children": [
        "IPY_MODEL_bd87276554ca4584a3e261dd362b9119",
        "IPY_MODEL_8f3231ea2d7f483a844c9d5dde0234b7"
       ],
       "layout": "IPY_MODEL_c33f23e3f336441cad84f52e8c186fda"
      }
     },
     "b8bfc8f5d68d4837bb04806f04f53b42": {
      "model_module": "@jupyter-widgets/base",
      "model_module_version": "1.2.0",
      "model_name": "LayoutModel",
      "state": {}
     },
     "bbda126ca20e4347ad591eb3901311e1": {
      "model_module": "@jupyter-widgets/controls",
      "model_module_version": "1.5.0",
      "model_name": "IntProgressModel",
      "state": {
       "bar_style": "success",
       "description": "[Epoch 10] Validation: 0.694: 100%",
       "layout": "IPY_MODEL_56287f9c87c84d66966262e75ef0264d",
       "max": 10,
       "style": "IPY_MODEL_184dd4e8a26f440eb0212240df6d7f97",
       "value": 10
      }
     },
     "bbfd4470204341bdb40b8805a7bb21a7": {
      "model_module": "@jupyter-widgets/controls",
      "model_module_version": "1.5.0",
      "model_name": "HBoxModel",
      "state": {
       "children": [
        "IPY_MODEL_14f32380990840b6a9b4673cdf481d3d",
        "IPY_MODEL_5eab55afbc5c42509da7ea008f655f1f"
       ],
       "layout": "IPY_MODEL_17faab11d9c3494180be106697044df7"
      }
     },
     "bd87276554ca4584a3e261dd362b9119": {
      "model_module": "@jupyter-widgets/controls",
      "model_module_version": "1.5.0",
      "model_name": "HBoxModel",
      "state": {
       "children": [
        "IPY_MODEL_8a585d2751464ad4a6e3a1431b0821c0",
        "IPY_MODEL_c0a56e73b7e44e659571996ab7662678"
       ],
       "layout": "IPY_MODEL_de81fd5afb0f47098d920909bb9420fc"
      }
     },
     "bffe466df630419683bd42b9c80faf13": {
      "model_module": "@jupyter-widgets/base",
      "model_module_version": "1.2.0",
      "model_name": "LayoutModel",
      "state": {}
     },
     "c0a56e73b7e44e659571996ab7662678": {
      "model_module": "@jupyter-widgets/controls",
      "model_module_version": "1.5.0",
      "model_name": "HTMLModel",
      "state": {
       "layout": "IPY_MODEL_32b4685f504a4d36a8932c9aae86adde",
       "style": "IPY_MODEL_3cff6f7850ac4bc8a8dfceb3d102514f",
       "value": " 40895/40895 [00:02&lt;00:00, 16861.19KB/s]"
      }
     },
     "c1b4f2af95e54e9f967016f8204e7039": {
      "model_module": "@jupyter-widgets/base",
      "model_module_version": "1.2.0",
      "model_name": "LayoutModel",
      "state": {}
     },
     "c1dcd385e6bf495bb1468fddee25c8ac": {
      "model_module": "@jupyter-widgets/base",
      "model_module_version": "1.2.0",
      "model_name": "LayoutModel",
      "state": {}
     },
     "c2b8722965e44893a910dd409ee19b18": {
      "model_module": "@jupyter-widgets/base",
      "model_module_version": "1.2.0",
      "model_name": "LayoutModel",
      "state": {}
     },
     "c33f23e3f336441cad84f52e8c186fda": {
      "model_module": "@jupyter-widgets/base",
      "model_module_version": "1.2.0",
      "model_name": "LayoutModel",
      "state": {
       "display": "inline-flex",
       "flex_flow": "row wrap",
       "width": "100%"
      }
     },
     "c36d4d350bb446c7a364c315e3601a4c": {
      "model_module": "@jupyter-widgets/controls",
      "model_module_version": "1.5.0",
      "model_name": "ProgressStyleModel",
      "state": {
       "description_width": "initial"
      }
     },
     "c3958eb5280d4e3b80d95ee5af4e131c": {
      "model_module": "@jupyter-widgets/base",
      "model_module_version": "1.2.0",
      "model_name": "LayoutModel",
      "state": {}
     },
     "c482f117c8ab48f7b9c0a892d3bebd3f": {
      "model_module": "@jupyter-widgets/controls",
      "model_module_version": "1.5.0",
      "model_name": "DescriptionStyleModel",
      "state": {
       "description_width": ""
      }
     },
     "c5fc4679c9724eaa8c79126527b4f218": {
      "model_module": "@jupyter-widgets/controls",
      "model_module_version": "1.5.0",
      "model_name": "DescriptionStyleModel",
      "state": {
       "description_width": ""
      }
     },
     "c6acf75533704a2fa955cea2c9b95a2f": {
      "model_module": "@jupyter-widgets/controls",
      "model_module_version": "1.5.0",
      "model_name": "VBoxModel",
      "state": {
       "children": [
        "IPY_MODEL_536345f27dbf46c1a85ff2a130c289a2",
        "IPY_MODEL_ad9cbf843d9f4d4f89ab133c9f7e2e5d"
       ],
       "layout": "IPY_MODEL_b6afcefc627d4fb3b4edf32d56db1f87"
      }
     },
     "c7ec84601cd542efa619dd1aec58d0ee": {
      "model_module": "@jupyter-widgets/controls",
      "model_module_version": "1.5.0",
      "model_name": "ProgressStyleModel",
      "state": {
       "description_width": "initial"
      }
     },
     "c8c3f13ac01b40afa89a911cbf3f2ec2": {
      "model_module": "@jupyter-widgets/controls",
      "model_module_version": "1.5.0",
      "model_name": "VBoxModel",
      "state": {
       "children": [
        "IPY_MODEL_07adeeb6d28e4fc9bc3d87c3a340943c",
        "IPY_MODEL_6d51e65254cb4141b1615aeb48529e7a"
       ],
       "layout": "IPY_MODEL_d3b11e95c0484ddba3dfa7bf3510ecef"
      }
     },
     "ca8378bfbc3249b192e1fa377c303ac9": {
      "model_module": "@jupyter-widgets/controls",
      "model_module_version": "1.5.0",
      "model_name": "HTMLModel",
      "state": {
       "layout": "IPY_MODEL_79f424c3238f4e0fb5fe93fa8142d9fc",
       "style": "IPY_MODEL_3351aafe7137456c95d149ddf29866d3"
      }
     },
     "cceed64d997d40daa3a9450e11c6ff8d": {
      "model_module": "@jupyter-widgets/base",
      "model_module_version": "1.2.0",
      "model_name": "LayoutModel",
      "state": {}
     },
     "cd3247af1e93404888165b76d6b4859c": {
      "model_module": "@jupyter-widgets/base",
      "model_module_version": "1.2.0",
      "model_name": "LayoutModel",
      "state": {}
     },
     "ce4a60ef24b942349e13921789ccdf57": {
      "model_module": "@jupyter-widgets/base",
      "model_module_version": "1.2.0",
      "model_name": "LayoutModel",
      "state": {}
     },
     "cf6517649c564070a1cc4895854bb5af": {
      "model_module": "@jupyter-widgets/base",
      "model_module_version": "1.2.0",
      "model_name": "LayoutModel",
      "state": {}
     },
     "d35dbf13e7254effad04761352f143d2": {
      "model_module": "@jupyter-widgets/base",
      "model_module_version": "1.2.0",
      "model_name": "LayoutModel",
      "state": {}
     },
     "d376dfb01a77437b94fa7eadf24d978a": {
      "model_module": "@jupyter-widgets/controls",
      "model_module_version": "1.5.0",
      "model_name": "HTMLModel",
      "state": {
       "layout": "IPY_MODEL_695fe3f0f7d040c689b93f90d17060ec",
       "style": "IPY_MODEL_1002b4713f864cf3b512e00728fae252",
       "value": " 40895/40895 [00:01&lt;00:00, 28117.66KB/s]"
      }
     },
     "d3b11e95c0484ddba3dfa7bf3510ecef": {
      "model_module": "@jupyter-widgets/base",
      "model_module_version": "1.2.0",
      "model_name": "LayoutModel",
      "state": {}
     },
     "d3fa816ee0b34f038ffe229fed320044": {
      "model_module": "@jupyter-widgets/controls",
      "model_module_version": "1.5.0",
      "model_name": "ProgressStyleModel",
      "state": {
       "description_width": "initial"
      }
     },
     "d61ef3b9f427472fa54b3dedda57dfe2": {
      "model_module": "@jupyter-widgets/base",
      "model_module_version": "1.2.0",
      "model_name": "LayoutModel",
      "state": {
       "flex": "2"
      }
     },
     "d89981a971734601a496de44111fe02f": {
      "model_module": "@jupyter-widgets/base",
      "model_module_version": "1.2.0",
      "model_name": "LayoutModel",
      "state": {}
     },
     "da48d9536d914f628c5d373d36470ecc": {
      "model_module": "@jupyter-widgets/base",
      "model_module_version": "1.2.0",
      "model_name": "LayoutModel",
      "state": {}
     },
     "dd7d02aac9b1441d878c7239c9b7a664": {
      "model_module": "@jupyter-widgets/base",
      "model_module_version": "1.2.0",
      "model_name": "LayoutModel",
      "state": {}
     },
     "de81fd5afb0f47098d920909bb9420fc": {
      "model_module": "@jupyter-widgets/base",
      "model_module_version": "1.2.0",
      "model_name": "LayoutModel",
      "state": {}
     },
     "dffc8332bda8448f8c233a24d232580a": {
      "model_module": "@jupyter-widgets/controls",
      "model_module_version": "1.5.0",
      "model_name": "VBoxModel",
      "state": {
       "children": [
        "IPY_MODEL_6b35757838b64911bae05412d8c6bc72",
        "IPY_MODEL_14241462acd646d08c12fd60c84ffead"
       ],
       "layout": "IPY_MODEL_762ca5246b464081a55b3c0c2a46992e"
      }
     },
     "e032d6044823418f8d5086495bf93089": {
      "model_module": "@jupyter-widgets/base",
      "model_module_version": "1.2.0",
      "model_name": "LayoutModel",
      "state": {}
     },
     "e04283da29ee433a90ceb57817a3cf6c": {
      "model_module": "@jupyter-widgets/base",
      "model_module_version": "1.2.0",
      "model_name": "LayoutModel",
      "state": {}
     },
     "e11d6dcee8c047959b8e41796cdc4479": {
      "model_module": "@jupyter-widgets/controls",
      "model_module_version": "1.5.0",
      "model_name": "DescriptionStyleModel",
      "state": {
       "description_width": ""
      }
     },
     "e1723ca6fc9446f0a8aebae14106682d": {
      "model_module": "@jupyter-widgets/base",
      "model_module_version": "1.2.0",
      "model_name": "LayoutModel",
      "state": {}
     },
     "e179c10d58e74db6b1a3454c58846263": {
      "model_module": "@jupyter-widgets/controls",
      "model_module_version": "1.5.0",
      "model_name": "IntProgressModel",
      "state": {
       "bar_style": "success",
       "description": "accuracy: 0.875: 100%",
       "layout": "IPY_MODEL_c2b8722965e44893a910dd409ee19b18",
       "max": 1,
       "style": "IPY_MODEL_88458be8561440b7b9cd84bcb29a5caa",
       "value": 1
      }
     },
     "e3c63d70c8984bc0a34e3fe824bcb671": {
      "model_module": "@jupyter-widgets/base",
      "model_module_version": "1.2.0",
      "model_name": "LayoutModel",
      "state": {}
     },
     "e5f576c210de4196a426e151a431b136": {
      "model_module": "@jupyter-widgets/base",
      "model_module_version": "1.2.0",
      "model_name": "LayoutModel",
      "state": {}
     },
     "e5fe8ba25ff84c449a0d2327b59ab1b1": {
      "model_module": "@jupyter-widgets/controls",
      "model_module_version": "1.5.0",
      "model_name": "DescriptionStyleModel",
      "state": {
       "description_width": ""
      }
     },
     "e6ac4fcf81e548088bca97c461164160": {
      "model_module": "@jupyter-widgets/base",
      "model_module_version": "1.2.0",
      "model_name": "LayoutModel",
      "state": {}
     },
     "e77cee995ab14b788ebb76074f805354": {
      "model_module": "@jupyter-widgets/controls",
      "model_module_version": "1.5.0",
      "model_name": "HTMLModel",
      "state": {
       "layout": "IPY_MODEL_e04283da29ee433a90ceb57817a3cf6c",
       "style": "IPY_MODEL_27ac5fbd17c4415488d81edd23486142",
       "value": " 2/2 [00:16&lt;00:00,  8.23s/it]"
      }
     },
     "e8900689f672439f8374fd453062a3a9": {
      "model_module": "@jupyter-widgets/controls",
      "model_module_version": "1.5.0",
      "model_name": "ProgressStyleModel",
      "state": {
       "description_width": "initial"
      }
     },
     "edec649418354e139ff51e370727c1d9": {
      "model_module": "@jupyter-widgets/controls",
      "model_module_version": "1.5.0",
      "model_name": "HTMLModel",
      "state": {
       "layout": "IPY_MODEL_080ccde7e0914b9994899d60db0f736f",
       "style": "IPY_MODEL_79c2dabbcef64214a22f1a303e8f4436"
      }
     },
     "ee5b2e43a0c04c7f9d94be2cb36e44ad": {
      "model_module": "@jupyter-widgets/controls",
      "model_module_version": "1.5.0",
      "model_name": "DescriptionStyleModel",
      "state": {
       "description_width": ""
      }
     },
     "f061ac6f3c6d4304bfecd60ca1300228": {
      "model_module": "@jupyter-widgets/controls",
      "model_module_version": "1.5.0",
      "model_name": "IntProgressModel",
      "state": {
       "bar_style": "success",
       "description": "[Epoch 10] Validation: 0.706: 100%",
       "layout": "IPY_MODEL_b4c578bf705641f584d9f13581fff92d",
       "max": 10,
       "style": "IPY_MODEL_5aed99ec8a66402cbc4e76cecac791cd",
       "value": 10
      }
     },
     "f09d3bfeb9a24b49b3105b2f166a70ee": {
      "model_module": "@jupyter-widgets/controls",
      "model_module_version": "1.5.0",
      "model_name": "IntProgressModel",
      "state": {
       "bar_style": "success",
       "description": "100%",
       "layout": "IPY_MODEL_ce4a60ef24b942349e13921789ccdf57",
       "max": 2,
       "style": "IPY_MODEL_19ba0eb2c837469e89aa46eb443fe703",
       "value": 2
      }
     },
     "f14281a939f142df9c7ab9970cf6de18": {
      "model_module": "@jupyter-widgets/base",
      "model_module_version": "1.2.0",
      "model_name": "LayoutModel",
      "state": {}
     },
     "f26d731ade734979b3b2103a81d7ab57": {
      "model_module": "@jupyter-widgets/controls",
      "model_module_version": "1.5.0",
      "model_name": "VBoxModel",
      "state": {
       "children": [
        "IPY_MODEL_747be47723d24215a5d8ad46cc078d0b",
        "IPY_MODEL_20eeaace6f6542189d7aeccdcba04326"
       ],
       "layout": "IPY_MODEL_cd3247af1e93404888165b76d6b4859c"
      }
     },
     "f579431b9142422cb602de64f9c41971": {
      "model_module": "@jupyter-widgets/controls",
      "model_module_version": "1.5.0",
      "model_name": "ProgressStyleModel",
      "state": {
       "description_width": "initial"
      }
     },
     "f6158ae51d894ce5bd7c8da704a596e6": {
      "model_module": "@jupyter-widgets/base",
      "model_module_version": "1.2.0",
      "model_name": "LayoutModel",
      "state": {}
     },
     "f7a00ee41aaf40188ae6268744367afb": {
      "model_module": "@jupyter-widgets/base",
      "model_module_version": "1.2.0",
      "model_name": "LayoutModel",
      "state": {}
     },
     "f9d01b5ef9bd47cb8df833979372e032": {
      "model_module": "@jupyter-widgets/controls",
      "model_module_version": "1.5.0",
      "model_name": "IntProgressModel",
      "state": {
       "bar_style": "success",
       "description": "accuracy: 0.90625: 100%",
       "layout": "IPY_MODEL_e6ac4fcf81e548088bca97c461164160",
       "max": 1,
       "style": "IPY_MODEL_1ff104c6ea2f4c03919d466cffdd22d3",
       "value": 1
      }
     },
     "fae4f7513c6745eca92df0197b0b8c07": {
      "model_module": "@jupyter-widgets/controls",
      "model_module_version": "1.5.0",
      "model_name": "DescriptionStyleModel",
      "state": {
       "description_width": ""
      }
     },
     "fde52457d9da460186f749cd6c3022a8": {
      "model_module": "@jupyter-widgets/controls",
      "model_module_version": "1.5.0",
      "model_name": "IntProgressModel",
      "state": {
       "bar_style": "success",
       "description": "accuracy: 0.75: 100%",
       "layout": "IPY_MODEL_25a464ad8cea41648ba31ec7b4c6a364",
       "max": 1,
       "style": "IPY_MODEL_c7ec84601cd542efa619dd1aec58d0ee",
       "value": 1
      }
     }
    },
    "version_major": 2,
    "version_minor": 0
   }
  }
 },
 "nbformat": 4,
 "nbformat_minor": 2
}
