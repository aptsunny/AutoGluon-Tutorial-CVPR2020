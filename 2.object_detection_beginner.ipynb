{
 "cells": [
  {
   "cell_type": "markdown",
   "metadata": {},
   "source": [
    "# Object Detection - Quick Start\n",
    "\n",
    ":label:`sec_object_detection_quick`\n",
    "\n",
    "\n",
    "Besides Image classification, objecgt detection is another important task in computer vision. In this tutorial, we will share a brief example to go through steps that how to use AutoGluon for object detection.\n",
    "\n",
    "Our goal is to detect motorbike in images by YOLO3 model. A tiny dataset is collected from VOC dataset, which only contains motorbike category. The model that is pretained on COCO dataset is used to do finetuning on our small dataset. With the help of AutoGluon, we are able to try many models with different hyper-parameters automatically, and return the best one as our final model. It is better to go over the tutorial about :ref:`sec_imgquick` first to learn how to use AutoGluon.\n",
    "\n",
    "Let's start with importing autogluon and ObjectDetection module for our task"
   ]
  },
  {
   "cell_type": "code",
   "execution_count": 5,
   "metadata": {},
   "outputs": [],
   "source": [
    "import autogluon as ag\n",
    "from autogluon import ObjectDetection as task"
   ]
  },
  {
   "cell_type": "markdown",
   "metadata": {},
   "source": [
    "## Tiny_motorbike dataset\n",
    "We collect a toy dataset only for detecting motorbikes in images. From VOC datset, 120 images are randomly selected as our training dataset, 50 images for validation and another 50 ones for testing. This tiny dataset follows the same format as VOC. \n",
    "\n",
    "We can download this dataset, which is only 23M, by commands below. The variable `root` specifies the path to store this dataset. The name of unzipped folder is called `tiny_motorbike`."
   ]
  },
  {
   "cell_type": "code",
   "execution_count": 6,
   "metadata": {},
   "outputs": [],
   "source": [
    "import os\n",
    "root = './'\n",
    "filename = ag.download('https://autogluon.s3.amazonaws.com/datasets/tiny_motorbike.zip',\n",
    "                        path=root)\n",
    "ag.unzip(filename, root=root)"
   ]
  },
  {
   "cell_type": "markdown",
   "metadata": {},
   "source": [
    "Once we retrieve the dataset, we can create dataset instacne with its name and path."
   ]
  },
  {
   "cell_type": "code",
   "execution_count": 7,
   "metadata": {},
   "outputs": [
    {
     "name": "stdout",
     "output_type": "stream",
     "text": [
      ">>> create dataset: tiny motorbike\n"
     ]
    }
   ],
   "source": [
    "dataset = task.Dataset(\"tiny_motorbike\", root=os.path.join(root, \"tiny_motorbike\"))"
   ]
  },
  {
   "cell_type": "markdown",
   "metadata": {},
   "source": [
    "## Fit models by AutoGluon\n",
    "In this section, we will talk about how to apply AutoGluon to fit our detetion models. We use mobilenet as backbone for YOLO3 model. Two different learning rates will be used to finetune the network. The best model is the one that obtains the best performance on validation dataset. We can also try more networks and hyper-parameters to have a largar searching space. \n",
    "\n",
    "In order to have results after you grab a cup of coffee, time_limits is set to 15mins for this task. In each experiment (one trial in our searching space), we train the model for 30 epoches. Let's start playing around AutoGluon."
   ]
  },
  {
   "cell_type": "code",
   "execution_count": 9,
   "metadata": {},
   "outputs": [
    {
     "data": {
      "application/vnd.jupyter.widget-view+json": {
       "model_id": "e843f89ad53748198b8fdff55e693058",
       "version_major": 2,
       "version_minor": 0
      },
      "text/plain": [
       "HBox(children=(IntProgress(value=0, max=2), HTML(value='')))"
      ]
     },
     "metadata": {},
     "output_type": "display_data"
    },
    {
     "name": "stderr",
     "output_type": "stream",
     "text": [
      "INFO:root:{'dataset': <autogluon.task.object_detection.dataset.voc.TinyVOC object at 0x7f7f205c9dd0>, 'net': 'mobilenet1.0', 'lr': 0.0005, 'loss': SoftmaxCrossEntropyLoss(batch_axis=0, w=None), 'num_gpus': 1, 'batch_size': 16, 'epochs': 30, 'num_workers': 8, 'hybridize': True, 'final_fit': False, 'seed': 223, 'data_shape': 416, 'start_epoch': 0, 'lr_mode': 'step', 'lr_decay': 0.1, 'lr_decay_period': 0, 'lr_decay_epoch': '160,180', 'warmup_lr': 0.0, 'warmup_epochs': 2, 'momentum': 0.9, 'wd': 0.0005, 'log_interval': 100, 'save_prefix': 'yolo3_mobilenet1.0_custom', 'save_interval': 10, 'val_interval': 1, 'num_samples': -1, 'no_random_shape': False, 'no_wd': False, 'mixup': False, 'no_mixup_epochs': 20, 'label_smooth': False, 'resume': False, 'syncbn': False, 'task_id': 0}\n"
     ]
    },
    {
     "data": {
      "application/vnd.jupyter.widget-view+json": {
       "model_id": "514c8a5be24b40e288925035a07114d2",
       "version_major": 2,
       "version_minor": 0
      },
      "text/plain": [
       "VBox(children=(HBox(children=(IntProgress(value=0, max=30), HTML(value=''))), HTML(value='')))"
      ]
     },
     "metadata": {},
     "output_type": "display_data"
    },
    {
     "name": "stdout",
     "output_type": "stream",
     "text": [
      "\n",
      "\n"
     ]
    },
    {
     "name": "stderr",
     "output_type": "stream",
     "text": [
      "INFO:root:{'dataset': <autogluon.task.object_detection.dataset.voc.TinyVOC object at 0x7f7f2025e110>, 'net': 'mobilenet1.0', 'lr': 0.0001, 'loss': SoftmaxCrossEntropyLoss(batch_axis=0, w=None), 'num_gpus': 1, 'batch_size': 16, 'epochs': 30, 'num_workers': 8, 'hybridize': True, 'final_fit': False, 'seed': 223, 'data_shape': 416, 'start_epoch': 0, 'lr_mode': 'step', 'lr_decay': 0.1, 'lr_decay_period': 0, 'lr_decay_epoch': '160,180', 'warmup_lr': 0.0, 'warmup_epochs': 2, 'momentum': 0.9, 'wd': 0.0005, 'log_interval': 100, 'save_prefix': 'yolo3_mobilenet1.0_custom', 'save_interval': 10, 'val_interval': 1, 'num_samples': -1, 'no_random_shape': False, 'no_wd': False, 'mixup': False, 'no_mixup_epochs': 20, 'label_smooth': False, 'resume': False, 'syncbn': False, 'task_id': 1}\n"
     ]
    },
    {
     "data": {
      "application/vnd.jupyter.widget-view+json": {
       "model_id": "d9a8876ff09f4b0ab51c73246e8f0de1",
       "version_major": 2,
       "version_minor": 0
      },
      "text/plain": [
       "VBox(children=(HBox(children=(IntProgress(value=0, max=30), HTML(value=''))), HTML(value='')))"
      ]
     },
     "metadata": {},
     "output_type": "display_data"
    },
    {
     "name": "stdout",
     "output_type": "stream",
     "text": [
      "\n"
     ]
    },
    {
     "name": "stderr",
     "output_type": "stream",
     "text": [
      "INFO:root:{'dataset': <autogluon.task.object_detection.dataset.voc.TinyVOC object at 0x7f7f20276210>, 'net': 'mobilenet1.0', 'lr': 0.0001, 'loss': SoftmaxCrossEntropyLoss(batch_axis=0, w=None), 'num_gpus': 1, 'batch_size': 16, 'epochs': 30, 'num_workers': 8, 'hybridize': True, 'final_fit': True, 'seed': 223, 'data_shape': 416, 'start_epoch': 0, 'lr_mode': 'step', 'lr_decay': 0.1, 'lr_decay_period': 0, 'lr_decay_epoch': '160,180', 'warmup_lr': 0.0, 'warmup_epochs': 2, 'momentum': 0.9, 'wd': 0.0005, 'log_interval': 100, 'save_prefix': 'yolo3_mobilenet1.0_custom', 'save_interval': 10, 'val_interval': 1, 'num_samples': -1, 'no_random_shape': False, 'no_wd': False, 'mixup': False, 'no_mixup_epochs': 20, 'label_smooth': False, 'resume': False, 'syncbn': False, 'task_id': 2}\n"
     ]
    },
    {
     "data": {
      "application/vnd.jupyter.widget-view+json": {
       "model_id": "bcbfe82447fe4f6f8ff8f55c817985d5",
       "version_major": 2,
       "version_minor": 0
      },
      "text/plain": [
       "VBox(children=(HBox(children=(IntProgress(value=0, max=30), HTML(value=''))), HTML(value='')))"
      ]
     },
     "metadata": {},
     "output_type": "display_data"
    },
    {
     "name": "stdout",
     "output_type": "stream",
     "text": [
      "\n",
      "The best config:\n",
      " {'lr.choice': 1, 'net.choice': 0}\n"
     ]
    }
   ],
   "source": [
    "detector = task.fit(dataset,\n",
    "                    epochs=30,\n",
    "                    ngpus_per_trial=1)"
   ]
  },
  {
   "cell_type": "markdown",
   "metadata": {},
   "source": [
    "After fitting, AutoGluon will automatically return the best model among all models in searching space. From output, we know the best model is the one trained with the second learning rate. Now, let's see how well the returned model perform on test dataset by simply calling detector.evaluate()."
   ]
  },
  {
   "cell_type": "code",
   "execution_count": 10,
   "metadata": {},
   "outputs": [
    {
     "name": "stdout",
     "output_type": "stream",
     "text": [
      "mAP on test dataset: 0.8372488934286689\n"
     ]
    }
   ],
   "source": [
    "test_acc = detector.evaluate(dataset) # it only evaluates on test dataset.\n",
    "print(\"mAP on test dataset: {}\".format(test_acc[1][1]))"
   ]
  },
  {
   "cell_type": "markdown",
   "metadata": {},
   "source": [
    "The mAP is not bad after just 30 epochs. Let's see one visualization result. We randomly select an image from test dataset, and show predicted bbox and probability over the origin image."
   ]
  },
  {
   "cell_type": "code",
   "execution_count": 11,
   "metadata": {},
   "outputs": [
    {
     "data": {
      "image/png": "[encoded data removed]",
      "text/plain": [
       "<Figure size 432x288 with 1 Axes>"
      ]
     },
     "metadata": {
      "needs_background": "light"
     },
     "output_type": "display_data"
    }
   ],
   "source": [
    "image = '000467.jpg'\n",
    "image_path = os.path.join(root, 'tiny_motorbike/VOC2007/JPEGImages', image)\n",
    "\n",
    "ind, prob, loc = detector.predict(image_path)"
   ]
  },
  {
   "cell_type": "markdown",
   "metadata": {},
   "source": [
    "We have tried models with various settings. Finally, showdown the whole processs via following command."
   ]
  },
  {
   "cell_type": "code",
   "execution_count": 12,
   "metadata": {},
   "outputs": [],
   "source": [
    "ag.done()"
   ]
  },
  {
   "cell_type": "code",
   "execution_count": null,
   "metadata": {},
   "outputs": [],
   "source": []
  }
 ],
 "metadata": {
  "kernelspec": {
   "display_name": "Python [conda env:mxnet_p36] *",
   "language": "python",
   "name": "conda-env-mxnet_p36-py"
  },
  "language_info": {
   "codemirror_mode": {
    "name": "ipython",
    "version": 3
   },
   "file_extension": ".py",
   "mimetype": "text/x-python",
   "name": "python",
   "nbconvert_exporter": "python",
   "pygments_lexer": "ipython3",
   "version": "3.6.10"
  },
  "widgets": {
   "application/vnd.jupyter.widget-state+json": {
    "state": {
     "01ddb0a18f2345de980cd81831dd3b4c": {
      "model_module": "@jupyter-widgets/base",
      "model_module_version": "1.2.0",
      "model_name": "LayoutModel",
      "state": {}
     },
     "03e8f140bc6840c790bd1e8b0e8c1f57": {
      "model_module": "@jupyter-widgets/controls",
      "model_module_version": "1.5.0",
      "model_name": "HBoxModel",
      "state": {
       "children": [
        "IPY_MODEL_42cb30fcaa5b4169b43cc90becde2871",
        "IPY_MODEL_3c13c36474544360a0cb6cb2406eb8b6"
       ],
       "layout": "IPY_MODEL_43e55d6233a64cfea60db16925b254e5"
      }
     },
     "085b327ce1e647efb53cbb4a7ee885e7": {
      "model_module": "@jupyter-widgets/controls",
      "model_module_version": "1.5.0",
      "model_name": "IntProgressModel",
      "state": {
       "bar_style": "success",
       "description": "100%",
       "layout": "IPY_MODEL_41531d70a96c4ce1bb376cfa0e819557",
       "max": 2,
       "style": "IPY_MODEL_bf1969e4946740189a8b133ee18482c4",
       "value": 2
      }
     },
     "0ad245ff34d64483b4d736bae733f0b0": {
      "model_module": "@jupyter-widgets/base",
      "model_module_version": "1.2.0",
      "model_name": "LayoutModel",
      "state": {}
     },
     "0e06852c8b524e07ab74d844e6b6cd05": {
      "model_module": "@jupyter-widgets/base",
      "model_module_version": "1.2.0",
      "model_name": "LayoutModel",
      "state": {}
     },
     "0e5e22d92540495c93a5997622110726": {
      "model_module": "@jupyter-widgets/controls",
      "model_module_version": "1.5.0",
      "model_name": "HTMLModel",
      "state": {
       "layout": "IPY_MODEL_25684149f33e4236b13a19436e774993",
       "style": "IPY_MODEL_ff899c5417da4745b8db9620b2d9d587",
       "value": " 2/2 [03:54&lt;00:00, 117.28s/it]"
      }
     },
     "127b1abb2e1941eca120c2a9160f5042": {
      "model_module": "@jupyter-widgets/controls",
      "model_module_version": "1.5.0",
      "model_name": "DescriptionStyleModel",
      "state": {
       "description_width": ""
      }
     },
     "1c9627417ba24e79bfd9b2e202a47fc1": {
      "model_module": "@jupyter-widgets/controls",
      "model_module_version": "1.5.0",
      "model_name": "HBoxModel",
      "state": {
       "children": [
        "IPY_MODEL_d632b83a2c8c4afa80354d69c1539c47",
        "IPY_MODEL_a3b90c35621a4db8bf9afb39dcaf4a77"
       ],
       "layout": "IPY_MODEL_ab71b95d2c124ff59b205f6ab088d2d9"
      }
     },
     "1e355412b22e43eeb99f172ec8a1756b": {
      "model_module": "@jupyter-widgets/controls",
      "model_module_version": "1.5.0",
      "model_name": "HTMLModel",
      "state": {
       "layout": "IPY_MODEL_e04771d454a24fed96e49a9eca58288c",
       "style": "IPY_MODEL_70bc7998f68044e68f236a9957afb790"
      }
     },
     "218e13ad608b440f95a1e8749cf68389": {
      "model_module": "@jupyter-widgets/controls",
      "model_module_version": "1.5.0",
      "model_name": "HTMLModel",
      "state": {
       "layout": "IPY_MODEL_a35c1aa0fa1541e6af3682b53ed1fa98",
       "style": "IPY_MODEL_8690dc5540d44bf8a7c687e6c7e1fdd8",
       "value": " 0/2 [00:00&lt;?, ?it/s]"
      }
     },
     "25684149f33e4236b13a19436e774993": {
      "model_module": "@jupyter-widgets/base",
      "model_module_version": "1.2.0",
      "model_name": "LayoutModel",
      "state": {}
     },
     "26cd399830cf480e84ddb982c02fe6c6": {
      "model_module": "@jupyter-widgets/controls",
      "model_module_version": "1.5.0",
      "model_name": "DescriptionStyleModel",
      "state": {
       "description_width": ""
      }
     },
     "2bdc18207a9842f4a44530e9221c0f45": {
      "model_module": "@jupyter-widgets/controls",
      "model_module_version": "1.5.0",
      "model_name": "VBoxModel",
      "state": {
       "children": [
        "IPY_MODEL_3cfea395edde49cfbbbde148743ea074",
        "IPY_MODEL_c1ce052b0a2548fb9a4cef2959834531"
       ],
       "layout": "IPY_MODEL_88d53bffd0b84345b96b417267b6c9b8"
      }
     },
     "2c411bcc39424ae3a563bb9139b5b685": {
      "model_module": "@jupyter-widgets/controls",
      "model_module_version": "1.5.0",
      "model_name": "DescriptionStyleModel",
      "state": {
       "description_width": ""
      }
     },
     "2c8b6ca06f1647ae82c2a4152ef9feff": {
      "model_module": "@jupyter-widgets/controls",
      "model_module_version": "1.5.0",
      "model_name": "DescriptionStyleModel",
      "state": {
       "description_width": ""
      }
     },
     "2d4d66d063564d5ea41396498bb478cf": {
      "model_module": "@jupyter-widgets/base",
      "model_module_version": "1.2.0",
      "model_name": "LayoutModel",
      "state": {}
     },
     "2fbb17f91bc84bda889bb79f8ae973c7": {
      "model_module": "@jupyter-widgets/controls",
      "model_module_version": "1.5.0",
      "model_name": "ProgressStyleModel",
      "state": {
       "description_width": "initial"
      }
     },
     "30c7d4f633d54a028e3bf1d52a150677": {
      "model_module": "@jupyter-widgets/base",
      "model_module_version": "1.2.0",
      "model_name": "LayoutModel",
      "state": {}
     },
     "3599b2c82b93446585569e61f5f0baf6": {
      "model_module": "@jupyter-widgets/controls",
      "model_module_version": "1.5.0",
      "model_name": "HTMLModel",
      "state": {
       "layout": "IPY_MODEL_d1c2424d8c0c45d8a9fcdbbf8acd0a5a",
       "style": "IPY_MODEL_c0dc19fcd9994271b116086e32788f9e",
       "value": " 30/30 [01:40&lt;00:00,  3.35s/it]"
      }
     },
     "3a3908c0ed684568bb4622c305785a57": {
      "model_module": "@jupyter-widgets/controls",
      "model_module_version": "1.5.0",
      "model_name": "IntProgressModel",
      "state": {
       "bar_style": "success",
       "description": "100%",
       "layout": "IPY_MODEL_ee5ef9d2d0304f7d8471bccd5f7c5112",
       "max": 21395,
       "style": "IPY_MODEL_5d86c5f380b04aa388299182d9347ead",
       "value": 21395
      }
     },
     "3b1a4ca63d47423598ad5bc2e7d1dc77": {
      "model_module": "@jupyter-widgets/controls",
      "model_module_version": "1.5.0",
      "model_name": "ProgressStyleModel",
      "state": {
       "description_width": "initial"
      }
     },
     "3c13c36474544360a0cb6cb2406eb8b6": {
      "model_module": "@jupyter-widgets/controls",
      "model_module_version": "1.5.0",
      "model_name": "HTMLModel",
      "state": {
       "layout": "IPY_MODEL_f6f6613ee7294fcf84124e7ea3c6ebea",
       "style": "IPY_MODEL_9184a905d8174941ab8a0efdf0460ab9",
       "value": " 30/30 [01:35&lt;00:00,  3.19s/it]"
      }
     },
     "3cfea395edde49cfbbbde148743ea074": {
      "model_module": "@jupyter-widgets/controls",
      "model_module_version": "1.5.0",
      "model_name": "HBoxModel",
      "state": {
       "children": [
        "IPY_MODEL_add8c85833ec43378e82dac9b9d98828",
        "IPY_MODEL_3599b2c82b93446585569e61f5f0baf6"
       ],
       "layout": "IPY_MODEL_bb166698c70941bc83e3d863b15dde1a"
      }
     },
     "3febd6e4d71d4e9687fb7e4f76b2411d": {
      "model_module": "@jupyter-widgets/base",
      "model_module_version": "1.2.0",
      "model_name": "LayoutModel",
      "state": {}
     },
     "41531d70a96c4ce1bb376cfa0e819557": {
      "model_module": "@jupyter-widgets/base",
      "model_module_version": "1.2.0",
      "model_name": "LayoutModel",
      "state": {}
     },
     "42cb30fcaa5b4169b43cc90becde2871": {
      "model_module": "@jupyter-widgets/controls",
      "model_module_version": "1.5.0",
      "model_name": "IntProgressModel",
      "state": {
       "bar_style": "success",
       "description": "[Epoch 29] Validation: motorbike=0.863 mAP=0.863: 100%",
       "layout": "IPY_MODEL_96c797c6dfa640c29c01c91a81b916f1",
       "max": 30,
       "style": "IPY_MODEL_db2dab2f6b474258bee7cfde3e06185a",
       "value": 30
      }
     },
     "43e55d6233a64cfea60db16925b254e5": {
      "model_module": "@jupyter-widgets/base",
      "model_module_version": "1.2.0",
      "model_name": "LayoutModel",
      "state": {}
     },
     "465bf948b576466b9a1cd764bd73af4e": {
      "model_module": "@jupyter-widgets/controls",
      "model_module_version": "1.5.0",
      "model_name": "IntProgressModel",
      "state": {
       "bar_style": "success",
       "description": "100%",
       "layout": "IPY_MODEL_f7004e1902244d6cb39af05118a9aca6",
       "max": 30,
       "style": "IPY_MODEL_e893f6b4cb074b609e8f639ccc8d1e10",
       "value": 30
      }
     },
     "48bde2560f754ca5b3e8b460fd5d96cb": {
      "model_module": "@jupyter-widgets/base",
      "model_module_version": "1.2.0",
      "model_name": "LayoutModel",
      "state": {}
     },
     "48fa6073c0264f17b699dc3972bc5301": {
      "model_module": "@jupyter-widgets/base",
      "model_module_version": "1.2.0",
      "model_name": "LayoutModel",
      "state": {}
     },
     "49a56358ceec437c879d8d01b0540ae0": {
      "model_module": "@jupyter-widgets/base",
      "model_module_version": "1.2.0",
      "model_name": "LayoutModel",
      "state": {}
     },
     "4b47d69e099349f6a3cb5b55a5027e6a": {
      "model_module": "@jupyter-widgets/base",
      "model_module_version": "1.2.0",
      "model_name": "LayoutModel",
      "state": {}
     },
     "4d1f479b63c34e2c9f79b86d899ca251": {
      "model_module": "@jupyter-widgets/base",
      "model_module_version": "1.2.0",
      "model_name": "LayoutModel",
      "state": {}
     },
     "514c8a5be24b40e288925035a07114d2": {
      "model_module": "@jupyter-widgets/controls",
      "model_module_version": "1.5.0",
      "model_name": "VBoxModel",
      "state": {
       "children": [
        "IPY_MODEL_8c0aeef6120f4a3c9ece84ae240af4e9",
        "IPY_MODEL_5a7c1c5cd6e54a318296dac2d2c7251c"
       ],
       "layout": "IPY_MODEL_ecb9b7c2a9414025a1bbb2e9040a3145"
      }
     },
     "51c3f355da0e4e6493fea4126323a51b": {
      "model_module": "@jupyter-widgets/base",
      "model_module_version": "1.2.0",
      "model_name": "LayoutModel",
      "state": {}
     },
     "51eca468d25a4d5b907db63b36bb4c74": {
      "model_module": "@jupyter-widgets/base",
      "model_module_version": "1.2.0",
      "model_name": "LayoutModel",
      "state": {}
     },
     "52ce52e00acc476fb3015dd59c8f456c": {
      "model_module": "@jupyter-widgets/controls",
      "model_module_version": "1.5.0",
      "model_name": "VBoxModel",
      "state": {
       "children": [
        "IPY_MODEL_5a7b1d25b74e4726837d72444cd6b394",
        "IPY_MODEL_af3ed3022f134edcad91726dfe8f43d9"
       ],
       "layout": "IPY_MODEL_b111aee5c7144f179ad00b415bdebf44"
      }
     },
     "53549df76d3943cfacbd651e330e1ee2": {
      "model_module": "@jupyter-widgets/controls",
      "model_module_version": "1.5.0",
      "model_name": "HTMLModel",
      "state": {
       "layout": "IPY_MODEL_c134257e123d4eee8d4e534a021b2197",
       "style": "IPY_MODEL_bf78338fb6404284bf73496df1e6d8eb",
       "value": " 21395/21395 [00:01&lt;00:00, 15539.87KB/s]"
      }
     },
     "540b986d3e904dd4b95221453669b847": {
      "model_module": "@jupyter-widgets/base",
      "model_module_version": "1.2.0",
      "model_name": "LayoutModel",
      "state": {}
     },
     "545274f5043749528e1eeb55244e4605": {
      "model_module": "@jupyter-widgets/base",
      "model_module_version": "1.2.0",
      "model_name": "LayoutModel",
      "state": {}
     },
     "572c6412aaaf4b1192e29668b3f924c2": {
      "model_module": "@jupyter-widgets/base",
      "model_module_version": "1.2.0",
      "model_name": "LayoutModel",
      "state": {
       "display": "inline-flex",
       "flex_flow": "row wrap",
       "width": "100%"
      }
     },
     "58604271dacb46eda837491dd085fc0b": {
      "model_module": "@jupyter-widgets/controls",
      "model_module_version": "1.5.0",
      "model_name": "DescriptionStyleModel",
      "state": {
       "description_width": ""
      }
     },
     "5a7b1d25b74e4726837d72444cd6b394": {
      "model_module": "@jupyter-widgets/controls",
      "model_module_version": "1.5.0",
      "model_name": "HBoxModel",
      "state": {
       "children": [
        "IPY_MODEL_6832e42f9b8c4fed820cc3a4d29d9ff5",
        "IPY_MODEL_f4d29848b7934b77a406402975210462"
       ],
       "layout": "IPY_MODEL_48fa6073c0264f17b699dc3972bc5301"
      }
     },
     "5a7c1c5cd6e54a318296dac2d2c7251c": {
      "model_module": "@jupyter-widgets/controls",
      "model_module_version": "1.5.0",
      "model_name": "HTMLModel",
      "state": {
       "layout": "IPY_MODEL_48bde2560f754ca5b3e8b460fd5d96cb",
       "style": "IPY_MODEL_de861197408644e49a390c077e20bd9b"
      }
     },
     "5d86c5f380b04aa388299182d9347ead": {
      "model_module": "@jupyter-widgets/controls",
      "model_module_version": "1.5.0",
      "model_name": "ProgressStyleModel",
      "state": {
       "description_width": "initial"
      }
     },
     "5f2680393e1c4f98b2cc8a81e426453c": {
      "model_module": "@jupyter-widgets/controls",
      "model_module_version": "1.5.0",
      "model_name": "HTMLModel",
      "state": {
       "layout": "IPY_MODEL_95e248acdc87456f91523849a6fcf5fe",
       "style": "IPY_MODEL_719a4dd6c6a64fd4a5e3a20b4a77e23c",
       "value": " 30/30 [01:36&lt;00:00,  3.23s/it]"
      }
     },
     "60bcedc520ae4b2c811e899b966a24da": {
      "model_module": "@jupyter-widgets/controls",
      "model_module_version": "1.5.0",
      "model_name": "HBoxModel",
      "state": {
       "children": [
        "IPY_MODEL_d9527f2a45184d2887498cc16ca05215",
        "IPY_MODEL_bb9cf14f37834f989175eefc957f90fa"
       ],
       "layout": "IPY_MODEL_eb080db51bc94fabb6fd1fefa927f346"
      }
     },
     "63d19d3f08f04bfcaae3da4191386293": {
      "model_module": "@jupyter-widgets/controls",
      "model_module_version": "1.5.0",
      "model_name": "DescriptionStyleModel",
      "state": {
       "description_width": ""
      }
     },
     "642936e0cf324f829cc3d40cde69425f": {
      "model_module": "@jupyter-widgets/base",
      "model_module_version": "1.2.0",
      "model_name": "LayoutModel",
      "state": {}
     },
     "64cec22b08b64ea2be0362b6d42ae70d": {
      "model_module": "@jupyter-widgets/controls",
      "model_module_version": "1.5.0",
      "model_name": "HBoxModel",
      "state": {
       "children": [
        "IPY_MODEL_ed3f7d7f70264a9fba24546b893c1339",
        "IPY_MODEL_5f2680393e1c4f98b2cc8a81e426453c"
       ],
       "layout": "IPY_MODEL_51eca468d25a4d5b907db63b36bb4c74"
      }
     },
     "651de81b5f79437f94849fdad9f08484": {
      "model_module": "@jupyter-widgets/base",
      "model_module_version": "1.2.0",
      "model_name": "LayoutModel",
      "state": {}
     },
     "6832e42f9b8c4fed820cc3a4d29d9ff5": {
      "model_module": "@jupyter-widgets/controls",
      "model_module_version": "1.5.0",
      "model_name": "IntProgressModel",
      "state": {
       "bar_style": "success",
       "description": "[Epoch 29] Validation: motorbike=0.7641065578565579 mAP=0.7641065578565579: 100%",
       "layout": "IPY_MODEL_3febd6e4d71d4e9687fb7e4f76b2411d",
       "max": 30,
       "style": "IPY_MODEL_2fbb17f91bc84bda889bb79f8ae973c7",
       "value": 30
      }
     },
     "6c86acd9fa19449abed12e6a8b77336a": {
      "model_module": "@jupyter-widgets/controls",
      "model_module_version": "1.5.0",
      "model_name": "HTMLModel",
      "state": {
       "layout": "IPY_MODEL_9d78e33b1bcd4f54b57f7592aa988d4d",
       "style": "IPY_MODEL_58604271dacb46eda837491dd085fc0b"
      }
     },
     "6f0739762a8b4b61bb40f08fa8ef9c99": {
      "model_module": "@jupyter-widgets/controls",
      "model_module_version": "1.5.0",
      "model_name": "DescriptionStyleModel",
      "state": {
       "description_width": ""
      }
     },
     "6f732a57e31a4958ba6ac4a1455bd2d6": {
      "model_module": "@jupyter-widgets/controls",
      "model_module_version": "1.5.0",
      "model_name": "VBoxModel",
      "state": {
       "children": [
        "IPY_MODEL_64cec22b08b64ea2be0362b6d42ae70d",
        "IPY_MODEL_70006378d668479bba5648d17f7cd102"
       ],
       "layout": "IPY_MODEL_2d4d66d063564d5ea41396498bb478cf"
      }
     },
     "70006378d668479bba5648d17f7cd102": {
      "model_module": "@jupyter-widgets/controls",
      "model_module_version": "1.5.0",
      "model_name": "HTMLModel",
      "state": {
       "layout": "IPY_MODEL_a3c6d27a59a74600959bddda3f170af0",
       "style": "IPY_MODEL_e4689a52040745a183dff63c2d8c16cd"
      }
     },
     "70bc7998f68044e68f236a9957afb790": {
      "model_module": "@jupyter-widgets/controls",
      "model_module_version": "1.5.0",
      "model_name": "DescriptionStyleModel",
      "state": {
       "description_width": ""
      }
     },
     "719a4dd6c6a64fd4a5e3a20b4a77e23c": {
      "model_module": "@jupyter-widgets/controls",
      "model_module_version": "1.5.0",
      "model_name": "DescriptionStyleModel",
      "state": {
       "description_width": ""
      }
     },
     "760f3a35f1084143851a89aca48401da": {
      "model_module": "@jupyter-widgets/controls",
      "model_module_version": "1.5.0",
      "model_name": "ProgressStyleModel",
      "state": {
       "description_width": "initial"
      }
     },
     "79d0ef1b37f7451db68ad1b4913e0a8d": {
      "model_module": "@jupyter-widgets/controls",
      "model_module_version": "1.5.0",
      "model_name": "HBoxModel",
      "state": {
       "children": [
        "IPY_MODEL_daaf996f185f42ffbda6c74228ccc73a",
        "IPY_MODEL_d8c2d30d9b1e4554ba2ca6ce7f606675"
       ],
       "layout": "IPY_MODEL_7b6697e7f3694dc6b6aa11f3366444d2"
      }
     },
     "7b6697e7f3694dc6b6aa11f3366444d2": {
      "model_module": "@jupyter-widgets/base",
      "model_module_version": "1.2.0",
      "model_name": "LayoutModel",
      "state": {}
     },
     "7d1120f0cff4457d9a37d647d212fffe": {
      "model_module": "@jupyter-widgets/base",
      "model_module_version": "1.2.0",
      "model_name": "LayoutModel",
      "state": {}
     },
     "7e65785900ba4b1bae0256548dd0a440": {
      "model_module": "@jupyter-widgets/base",
      "model_module_version": "1.2.0",
      "model_name": "LayoutModel",
      "state": {}
     },
     "822cbea0024d49649c82efc0d3d5851a": {
      "model_module": "@jupyter-widgets/base",
      "model_module_version": "1.2.0",
      "model_name": "LayoutModel",
      "state": {}
     },
     "8690dc5540d44bf8a7c687e6c7e1fdd8": {
      "model_module": "@jupyter-widgets/controls",
      "model_module_version": "1.5.0",
      "model_name": "DescriptionStyleModel",
      "state": {
       "description_width": ""
      }
     },
     "88d53bffd0b84345b96b417267b6c9b8": {
      "model_module": "@jupyter-widgets/base",
      "model_module_version": "1.2.0",
      "model_name": "LayoutModel",
      "state": {}
     },
     "89653eece1114096a6af801508327fe1": {
      "model_module": "@jupyter-widgets/base",
      "model_module_version": "1.2.0",
      "model_name": "LayoutModel",
      "state": {}
     },
     "896b51b7321f47ecae4725da8ee8caac": {
      "model_module": "@jupyter-widgets/controls",
      "model_module_version": "1.5.0",
      "model_name": "HTMLModel",
      "state": {
       "layout": "IPY_MODEL_c82cbaad1f754c1d8f10941a14cfcc47",
       "style": "IPY_MODEL_98bf8f61767747918ea63e5551a63aad"
      }
     },
     "8a915176930f445bbf3f21c715d1eeaf": {
      "model_module": "@jupyter-widgets/base",
      "model_module_version": "1.2.0",
      "model_name": "LayoutModel",
      "state": {}
     },
     "8c0aeef6120f4a3c9ece84ae240af4e9": {
      "model_module": "@jupyter-widgets/controls",
      "model_module_version": "1.5.0",
      "model_name": "HBoxModel",
      "state": {
       "children": [
        "IPY_MODEL_ba35b6823cde45e8b9c66052968dba42",
        "IPY_MODEL_e61d80be2b8a4241b1dcba1d75eda607"
       ],
       "layout": "IPY_MODEL_ec55ddbd5876470b8e2f55bcacfa66ae"
      }
     },
     "8e08f63c11e245b3b26f2d25d367b53b": {
      "model_module": "@jupyter-widgets/base",
      "model_module_version": "1.2.0",
      "model_name": "LayoutModel",
      "state": {}
     },
     "8ef437a84778417ca7c46ce5bc23592f": {
      "model_module": "@jupyter-widgets/controls",
      "model_module_version": "1.5.0",
      "model_name": "HBoxModel",
      "state": {
       "children": [
        "IPY_MODEL_3a3908c0ed684568bb4622c305785a57",
        "IPY_MODEL_53549df76d3943cfacbd651e330e1ee2"
       ],
       "layout": "IPY_MODEL_b1e1707d7ded43e7b8f6b90e3b50172c"
      }
     },
     "9184a905d8174941ab8a0efdf0460ab9": {
      "model_module": "@jupyter-widgets/controls",
      "model_module_version": "1.5.0",
      "model_name": "DescriptionStyleModel",
      "state": {
       "description_width": ""
      }
     },
     "95e248acdc87456f91523849a6fcf5fe": {
      "model_module": "@jupyter-widgets/base",
      "model_module_version": "1.2.0",
      "model_name": "LayoutModel",
      "state": {}
     },
     "96c797c6dfa640c29c01c91a81b916f1": {
      "model_module": "@jupyter-widgets/base",
      "model_module_version": "1.2.0",
      "model_name": "LayoutModel",
      "state": {}
     },
     "988d7decd55a41c4b9091e8dbbcd870a": {
      "model_module": "@jupyter-widgets/controls",
      "model_module_version": "1.5.0",
      "model_name": "ProgressStyleModel",
      "state": {
       "description_width": "initial"
      }
     },
     "98bf8f61767747918ea63e5551a63aad": {
      "model_module": "@jupyter-widgets/controls",
      "model_module_version": "1.5.0",
      "model_name": "DescriptionStyleModel",
      "state": {
       "description_width": ""
      }
     },
     "9a449c4589f640cfbe3740d94188734a": {
      "model_module": "@jupyter-widgets/base",
      "model_module_version": "1.2.0",
      "model_name": "LayoutModel",
      "state": {}
     },
     "9c92bca886124f2295b9d1f290b5f2d1": {
      "model_module": "@jupyter-widgets/controls",
      "model_module_version": "1.5.0",
      "model_name": "HBoxModel",
      "state": {
       "children": [
        "IPY_MODEL_465bf948b576466b9a1cd764bd73af4e",
        "IPY_MODEL_fd6519c6f21d446fb7b442aa26e8d694"
       ],
       "layout": "IPY_MODEL_7e65785900ba4b1bae0256548dd0a440"
      }
     },
     "9d78e33b1bcd4f54b57f7592aa988d4d": {
      "model_module": "@jupyter-widgets/base",
      "model_module_version": "1.2.0",
      "model_name": "LayoutModel",
      "state": {}
     },
     "9e3dc856792d4f47ab55ea043e40302d": {
      "model_module": "@jupyter-widgets/controls",
      "model_module_version": "1.5.0",
      "model_name": "ProgressStyleModel",
      "state": {
       "description_width": "initial"
      }
     },
     "a050f1bdbffd4e8b892e6a08d74ed7ce": {
      "model_module": "@jupyter-widgets/controls",
      "model_module_version": "1.5.0",
      "model_name": "HTMLModel",
      "state": {
       "layout": "IPY_MODEL_d1cd7c674333486886d72f58cd3b60ac",
       "style": "IPY_MODEL_a84099db5b124f31ada865b00b4c2361"
      }
     },
     "a0bf11f31ea8401e9170a6c70577e182": {
      "model_module": "@jupyter-widgets/controls",
      "model_module_version": "1.5.0",
      "model_name": "VBoxModel",
      "state": {
       "children": [
        "IPY_MODEL_8ef437a84778417ca7c46ce5bc23592f",
        "IPY_MODEL_6c86acd9fa19449abed12e6a8b77336a"
       ],
       "layout": "IPY_MODEL_b2ee3607bbca4755a588df8778df85d6"
      }
     },
     "a35c1aa0fa1541e6af3682b53ed1fa98": {
      "model_module": "@jupyter-widgets/base",
      "model_module_version": "1.2.0",
      "model_name": "LayoutModel",
      "state": {}
     },
     "a3b90c35621a4db8bf9afb39dcaf4a77": {
      "model_module": "@jupyter-widgets/controls",
      "model_module_version": "1.5.0",
      "model_name": "HTMLModel",
      "state": {
       "layout": "IPY_MODEL_822cbea0024d49649c82efc0d3d5851a",
       "style": "IPY_MODEL_c6011ff2e8ce4c6baf3ea9f1bedd7b0b",
       "value": " 21395/21395 [00:00&lt;00:00, 28390.77KB/s]"
      }
     },
     "a3c6d27a59a74600959bddda3f170af0": {
      "model_module": "@jupyter-widgets/base",
      "model_module_version": "1.2.0",
      "model_name": "LayoutModel",
      "state": {}
     },
     "a84099db5b124f31ada865b00b4c2361": {
      "model_module": "@jupyter-widgets/controls",
      "model_module_version": "1.5.0",
      "model_name": "DescriptionStyleModel",
      "state": {
       "description_width": ""
      }
     },
     "ab71b95d2c124ff59b205f6ab088d2d9": {
      "model_module": "@jupyter-widgets/base",
      "model_module_version": "1.2.0",
      "model_name": "LayoutModel",
      "state": {}
     },
     "add8c85833ec43378e82dac9b9d98828": {
      "model_module": "@jupyter-widgets/controls",
      "model_module_version": "1.5.0",
      "model_name": "IntProgressModel",
      "state": {
       "bar_style": "success",
       "description": "[Epoch 29] Validation: motorbike=0.8569262663551016 mAP=0.8569262663551016: 100%",
       "layout": "IPY_MODEL_01ddb0a18f2345de980cd81831dd3b4c",
       "max": 30,
       "style": "IPY_MODEL_9e3dc856792d4f47ab55ea043e40302d",
       "value": 30
      }
     },
     "af3ed3022f134edcad91726dfe8f43d9": {
      "model_module": "@jupyter-widgets/controls",
      "model_module_version": "1.5.0",
      "model_name": "HTMLModel",
      "state": {
       "layout": "IPY_MODEL_bed978f3016f43978f1a37415d4900c7",
       "style": "IPY_MODEL_f5ecb162f10d40d297cf7aeae311fb25"
      }
     },
     "b111aee5c7144f179ad00b415bdebf44": {
      "model_module": "@jupyter-widgets/base",
      "model_module_version": "1.2.0",
      "model_name": "LayoutModel",
      "state": {}
     },
     "b1e1707d7ded43e7b8f6b90e3b50172c": {
      "model_module": "@jupyter-widgets/base",
      "model_module_version": "1.2.0",
      "model_name": "LayoutModel",
      "state": {}
     },
     "b2ee3607bbca4755a588df8778df85d6": {
      "model_module": "@jupyter-widgets/base",
      "model_module_version": "1.2.0",
      "model_name": "LayoutModel",
      "state": {
       "display": "inline-flex",
       "flex_flow": "row wrap",
       "width": "100%"
      }
     },
     "b53fb867fc3b4b97ade6f00957f18c06": {
      "model_module": "@jupyter-widgets/controls",
      "model_module_version": "1.5.0",
      "model_name": "VBoxModel",
      "state": {
       "children": [
        "IPY_MODEL_60bcedc520ae4b2c811e899b966a24da",
        "IPY_MODEL_896b51b7321f47ecae4725da8ee8caac"
       ],
       "layout": "IPY_MODEL_4b47d69e099349f6a3cb5b55a5027e6a"
      }
     },
     "b9d1b08007fe49e48956bd992c918472": {
      "model_module": "@jupyter-widgets/controls",
      "model_module_version": "1.5.0",
      "model_name": "ProgressStyleModel",
      "state": {
       "description_width": "initial"
      }
     },
     "ba35b6823cde45e8b9c66052968dba42": {
      "model_module": "@jupyter-widgets/controls",
      "model_module_version": "1.5.0",
      "model_name": "IntProgressModel",
      "state": {
       "bar_style": "success",
       "description": "[Epoch 29] Validation: motorbike=0.831 mAP=0.831: 100%",
       "layout": "IPY_MODEL_c216c1f310c64d14b639c91d4e5d7c4a",
       "max": 30,
       "style": "IPY_MODEL_760f3a35f1084143851a89aca48401da",
       "value": 30
      }
     },
     "bb166698c70941bc83e3d863b15dde1a": {
      "model_module": "@jupyter-widgets/base",
      "model_module_version": "1.2.0",
      "model_name": "LayoutModel",
      "state": {}
     },
     "bb9cf14f37834f989175eefc957f90fa": {
      "model_module": "@jupyter-widgets/controls",
      "model_module_version": "1.5.0",
      "model_name": "HTMLModel",
      "state": {
       "layout": "IPY_MODEL_8e08f63c11e245b3b26f2d25d367b53b",
       "style": "IPY_MODEL_26cd399830cf480e84ddb982c02fe6c6",
       "value": " 30/30 [01:30&lt;00:00,  3.01s/it]"
      }
     },
     "bcbfe82447fe4f6f8ff8f55c817985d5": {
      "model_module": "@jupyter-widgets/controls",
      "model_module_version": "1.5.0",
      "model_name": "VBoxModel",
      "state": {
       "children": [
        "IPY_MODEL_9c92bca886124f2295b9d1f290b5f2d1",
        "IPY_MODEL_1e355412b22e43eeb99f172ec8a1756b"
       ],
       "layout": "IPY_MODEL_540b986d3e904dd4b95221453669b847"
      }
     },
     "bed978f3016f43978f1a37415d4900c7": {
      "model_module": "@jupyter-widgets/base",
      "model_module_version": "1.2.0",
      "model_name": "LayoutModel",
      "state": {}
     },
     "bf1969e4946740189a8b133ee18482c4": {
      "model_module": "@jupyter-widgets/controls",
      "model_module_version": "1.5.0",
      "model_name": "ProgressStyleModel",
      "state": {
       "description_width": "initial"
      }
     },
     "bf78338fb6404284bf73496df1e6d8eb": {
      "model_module": "@jupyter-widgets/controls",
      "model_module_version": "1.5.0",
      "model_name": "DescriptionStyleModel",
      "state": {
       "description_width": ""
      }
     },
     "bffde90f9c93481f8dadaeb11ae987a9": {
      "model_module": "@jupyter-widgets/controls",
      "model_module_version": "1.5.0",
      "model_name": "ProgressStyleModel",
      "state": {
       "description_width": "initial"
      }
     },
     "c0dc19fcd9994271b116086e32788f9e": {
      "model_module": "@jupyter-widgets/controls",
      "model_module_version": "1.5.0",
      "model_name": "DescriptionStyleModel",
      "state": {
       "description_width": ""
      }
     },
     "c134257e123d4eee8d4e534a021b2197": {
      "model_module": "@jupyter-widgets/base",
      "model_module_version": "1.2.0",
      "model_name": "LayoutModel",
      "state": {}
     },
     "c1ce052b0a2548fb9a4cef2959834531": {
      "model_module": "@jupyter-widgets/controls",
      "model_module_version": "1.5.0",
      "model_name": "HTMLModel",
      "state": {
       "layout": "IPY_MODEL_ec37b33ffccc41869d07359de4765dd0",
       "style": "IPY_MODEL_d9795199b23540468076bbce88804ad2"
      }
     },
     "c216c1f310c64d14b639c91d4e5d7c4a": {
      "model_module": "@jupyter-widgets/base",
      "model_module_version": "1.2.0",
      "model_name": "LayoutModel",
      "state": {}
     },
     "c6011ff2e8ce4c6baf3ea9f1bedd7b0b": {
      "model_module": "@jupyter-widgets/controls",
      "model_module_version": "1.5.0",
      "model_name": "DescriptionStyleModel",
      "state": {
       "description_width": ""
      }
     },
     "c82cbaad1f754c1d8f10941a14cfcc47": {
      "model_module": "@jupyter-widgets/base",
      "model_module_version": "1.2.0",
      "model_name": "LayoutModel",
      "state": {}
     },
     "c885c3e2aa5d481a9af12448614463e8": {
      "model_module": "@jupyter-widgets/controls",
      "model_module_version": "1.5.0",
      "model_name": "DescriptionStyleModel",
      "state": {
       "description_width": ""
      }
     },
     "cb5c1e805ed441b4a6512403da5df9c4": {
      "model_module": "@jupyter-widgets/controls",
      "model_module_version": "1.5.0",
      "model_name": "ProgressStyleModel",
      "state": {
       "description_width": "initial"
      }
     },
     "cf1c563b2a0d445a8a9e6f68153aa371": {
      "model_module": "@jupyter-widgets/controls",
      "model_module_version": "1.5.0",
      "model_name": "VBoxModel",
      "state": {
       "children": [
        "IPY_MODEL_1c9627417ba24e79bfd9b2e202a47fc1",
        "IPY_MODEL_a050f1bdbffd4e8b892e6a08d74ed7ce"
       ],
       "layout": "IPY_MODEL_572c6412aaaf4b1192e29668b3f924c2"
      }
     },
     "d1c2424d8c0c45d8a9fcdbbf8acd0a5a": {
      "model_module": "@jupyter-widgets/base",
      "model_module_version": "1.2.0",
      "model_name": "LayoutModel",
      "state": {}
     },
     "d1cd7c674333486886d72f58cd3b60ac": {
      "model_module": "@jupyter-widgets/base",
      "model_module_version": "1.2.0",
      "model_name": "LayoutModel",
      "state": {}
     },
     "d632b83a2c8c4afa80354d69c1539c47": {
      "model_module": "@jupyter-widgets/controls",
      "model_module_version": "1.5.0",
      "model_name": "IntProgressModel",
      "state": {
       "bar_style": "success",
       "description": "100%",
       "layout": "IPY_MODEL_e976b2f4e9274f9b910bd88be9b2b8ce",
       "max": 21395,
       "style": "IPY_MODEL_b9d1b08007fe49e48956bd992c918472",
       "value": 21395
      }
     },
     "d6374144ceb84f0fa8c9f0d479d3ff9c": {
      "model_module": "@jupyter-widgets/base",
      "model_module_version": "1.2.0",
      "model_name": "LayoutModel",
      "state": {}
     },
     "d828e8c417a14680b637bae19b04d2c1": {
      "model_module": "@jupyter-widgets/controls",
      "model_module_version": "1.5.0",
      "model_name": "IntProgressModel",
      "state": {
       "bar_style": "success",
       "description": "100%",
       "layout": "IPY_MODEL_545274f5043749528e1eeb55244e4605",
       "max": 2,
       "style": "IPY_MODEL_bffde90f9c93481f8dadaeb11ae987a9",
       "value": 2
      }
     },
     "d86e3c9cebe142f098b79e9590fcda8f": {
      "model_module": "@jupyter-widgets/controls",
      "model_module_version": "1.5.0",
      "model_name": "IntProgressModel",
      "state": {
       "description": "  0%",
       "layout": "IPY_MODEL_0e06852c8b524e07ab74d844e6b6cd05",
       "max": 2,
       "style": "IPY_MODEL_cb5c1e805ed441b4a6512403da5df9c4"
      }
     },
     "d8c2d30d9b1e4554ba2ca6ce7f606675": {
      "model_module": "@jupyter-widgets/controls",
      "model_module_version": "1.5.0",
      "model_name": "HTMLModel",
      "state": {
       "layout": "IPY_MODEL_f679b2a250294e5188cc68641147aa69",
       "style": "IPY_MODEL_2c8b6ca06f1647ae82c2a4152ef9feff",
       "value": " 2/2 [00:32&lt;00:00, 16.42s/it]"
      }
     },
     "d9527f2a45184d2887498cc16ca05215": {
      "model_module": "@jupyter-widgets/controls",
      "model_module_version": "1.5.0",
      "model_name": "IntProgressModel",
      "state": {
       "bar_style": "success",
       "description": "100%",
       "layout": "IPY_MODEL_49a56358ceec437c879d8d01b0540ae0",
       "max": 30,
       "style": "IPY_MODEL_988d7decd55a41c4b9091e8dbbcd870a",
       "value": 30
      }
     },
     "d9795199b23540468076bbce88804ad2": {
      "model_module": "@jupyter-widgets/controls",
      "model_module_version": "1.5.0",
      "model_name": "DescriptionStyleModel",
      "state": {
       "description_width": ""
      }
     },
     "d9a8876ff09f4b0ab51c73246e8f0de1": {
      "model_module": "@jupyter-widgets/controls",
      "model_module_version": "1.5.0",
      "model_name": "VBoxModel",
      "state": {
       "children": [
        "IPY_MODEL_03e8f140bc6840c790bd1e8b0e8c1f57",
        "IPY_MODEL_ec51056abb5a48b5b8c49a4155c51eca"
       ],
       "layout": "IPY_MODEL_8a915176930f445bbf3f21c715d1eeaf"
      }
     },
     "daaf996f185f42ffbda6c74228ccc73a": {
      "model_module": "@jupyter-widgets/controls",
      "model_module_version": "1.5.0",
      "model_name": "IntProgressModel",
      "state": {
       "bar_style": "success",
       "description": "100%",
       "layout": "IPY_MODEL_4d1f479b63c34e2c9f79b86d899ca251",
       "max": 2,
       "style": "IPY_MODEL_3b1a4ca63d47423598ad5bc2e7d1dc77",
       "value": 2
      }
     },
     "db2dab2f6b474258bee7cfde3e06185a": {
      "model_module": "@jupyter-widgets/controls",
      "model_module_version": "1.5.0",
      "model_name": "ProgressStyleModel",
      "state": {
       "description_width": "initial"
      }
     },
     "de861197408644e49a390c077e20bd9b": {
      "model_module": "@jupyter-widgets/controls",
      "model_module_version": "1.5.0",
      "model_name": "DescriptionStyleModel",
      "state": {
       "description_width": ""
      }
     },
     "e04771d454a24fed96e49a9eca58288c": {
      "model_module": "@jupyter-widgets/base",
      "model_module_version": "1.2.0",
      "model_name": "LayoutModel",
      "state": {}
     },
     "e1d41825d6594144a63d2af83bd47887": {
      "model_module": "@jupyter-widgets/controls",
      "model_module_version": "1.5.0",
      "model_name": "HBoxModel",
      "state": {
       "children": [
        "IPY_MODEL_d86e3c9cebe142f098b79e9590fcda8f",
        "IPY_MODEL_218e13ad608b440f95a1e8749cf68389"
       ],
       "layout": "IPY_MODEL_51c3f355da0e4e6493fea4126323a51b"
      }
     },
     "e4689a52040745a183dff63c2d8c16cd": {
      "model_module": "@jupyter-widgets/controls",
      "model_module_version": "1.5.0",
      "model_name": "DescriptionStyleModel",
      "state": {
       "description_width": ""
      }
     },
     "e61d80be2b8a4241b1dcba1d75eda607": {
      "model_module": "@jupyter-widgets/controls",
      "model_module_version": "1.5.0",
      "model_name": "HTMLModel",
      "state": {
       "layout": "IPY_MODEL_651de81b5f79437f94849fdad9f08484",
       "style": "IPY_MODEL_127b1abb2e1941eca120c2a9160f5042",
       "value": " 30/30 [01:37&lt;00:00,  3.26s/it]"
      }
     },
     "e843f89ad53748198b8fdff55e693058": {
      "model_module": "@jupyter-widgets/controls",
      "model_module_version": "1.5.0",
      "model_name": "HBoxModel",
      "state": {
       "children": [
        "IPY_MODEL_085b327ce1e647efb53cbb4a7ee885e7",
        "IPY_MODEL_0e5e22d92540495c93a5997622110726"
       ],
       "layout": "IPY_MODEL_30c7d4f633d54a028e3bf1d52a150677"
      }
     },
     "e893f6b4cb074b609e8f639ccc8d1e10": {
      "model_module": "@jupyter-widgets/controls",
      "model_module_version": "1.5.0",
      "model_name": "ProgressStyleModel",
      "state": {
       "description_width": "initial"
      }
     },
     "e976b2f4e9274f9b910bd88be9b2b8ce": {
      "model_module": "@jupyter-widgets/base",
      "model_module_version": "1.2.0",
      "model_name": "LayoutModel",
      "state": {
       "flex": "2"
      }
     },
     "eb080db51bc94fabb6fd1fefa927f346": {
      "model_module": "@jupyter-widgets/base",
      "model_module_version": "1.2.0",
      "model_name": "LayoutModel",
      "state": {}
     },
     "ec37b33ffccc41869d07359de4765dd0": {
      "model_module": "@jupyter-widgets/base",
      "model_module_version": "1.2.0",
      "model_name": "LayoutModel",
      "state": {}
     },
     "ec51056abb5a48b5b8c49a4155c51eca": {
      "model_module": "@jupyter-widgets/controls",
      "model_module_version": "1.5.0",
      "model_name": "HTMLModel",
      "state": {
       "layout": "IPY_MODEL_0ad245ff34d64483b4d736bae733f0b0",
       "style": "IPY_MODEL_6f0739762a8b4b61bb40f08fa8ef9c99"
      }
     },
     "ec55ddbd5876470b8e2f55bcacfa66ae": {
      "model_module": "@jupyter-widgets/base",
      "model_module_version": "1.2.0",
      "model_name": "LayoutModel",
      "state": {}
     },
     "ecb9b7c2a9414025a1bbb2e9040a3145": {
      "model_module": "@jupyter-widgets/base",
      "model_module_version": "1.2.0",
      "model_name": "LayoutModel",
      "state": {}
     },
     "ed3f7d7f70264a9fba24546b893c1339": {
      "model_module": "@jupyter-widgets/controls",
      "model_module_version": "1.5.0",
      "model_name": "IntProgressModel",
      "state": {
       "bar_style": "success",
       "description": "[Epoch 29] Validation: motorbike=0.836 mAP=0.836: 100%",
       "layout": "IPY_MODEL_89653eece1114096a6af801508327fe1",
       "max": 30,
       "style": "IPY_MODEL_f24b0a36e8ec437bbbf8aba3e21023c5",
       "value": 30
      }
     },
     "ee5ef9d2d0304f7d8471bccd5f7c5112": {
      "model_module": "@jupyter-widgets/base",
      "model_module_version": "1.2.0",
      "model_name": "LayoutModel",
      "state": {
       "flex": "2"
      }
     },
     "f0a30984fb2846469bdad4d532a2f4fb": {
      "model_module": "@jupyter-widgets/controls",
      "model_module_version": "1.5.0",
      "model_name": "HTMLModel",
      "state": {
       "layout": "IPY_MODEL_9a449c4589f640cfbe3740d94188734a",
       "style": "IPY_MODEL_63d19d3f08f04bfcaae3da4191386293",
       "value": " 2/2 [01:53&lt;00:00, 56.65s/it]"
      }
     },
     "f24b0a36e8ec437bbbf8aba3e21023c5": {
      "model_module": "@jupyter-widgets/controls",
      "model_module_version": "1.5.0",
      "model_name": "ProgressStyleModel",
      "state": {
       "description_width": "initial"
      }
     },
     "f4d29848b7934b77a406402975210462": {
      "model_module": "@jupyter-widgets/controls",
      "model_module_version": "1.5.0",
      "model_name": "HTMLModel",
      "state": {
       "layout": "IPY_MODEL_642936e0cf324f829cc3d40cde69425f",
       "style": "IPY_MODEL_2c411bcc39424ae3a563bb9139b5b685",
       "value": " 30/30 [01:43&lt;00:00,  3.45s/it]"
      }
     },
     "f5ecb162f10d40d297cf7aeae311fb25": {
      "model_module": "@jupyter-widgets/controls",
      "model_module_version": "1.5.0",
      "model_name": "DescriptionStyleModel",
      "state": {
       "description_width": ""
      }
     },
     "f679b2a250294e5188cc68641147aa69": {
      "model_module": "@jupyter-widgets/base",
      "model_module_version": "1.2.0",
      "model_name": "LayoutModel",
      "state": {}
     },
     "f6f6613ee7294fcf84124e7ea3c6ebea": {
      "model_module": "@jupyter-widgets/base",
      "model_module_version": "1.2.0",
      "model_name": "LayoutModel",
      "state": {}
     },
     "f7004e1902244d6cb39af05118a9aca6": {
      "model_module": "@jupyter-widgets/base",
      "model_module_version": "1.2.0",
      "model_name": "LayoutModel",
      "state": {}
     },
     "fcb4da9f0cb842c8b42465f305d9a794": {
      "model_module": "@jupyter-widgets/controls",
      "model_module_version": "1.5.0",
      "model_name": "HBoxModel",
      "state": {
       "children": [
        "IPY_MODEL_d828e8c417a14680b637bae19b04d2c1",
        "IPY_MODEL_f0a30984fb2846469bdad4d532a2f4fb"
       ],
       "layout": "IPY_MODEL_7d1120f0cff4457d9a37d647d212fffe"
      }
     },
     "fd6519c6f21d446fb7b442aa26e8d694": {
      "model_module": "@jupyter-widgets/controls",
      "model_module_version": "1.5.0",
      "model_name": "HTMLModel",
      "state": {
       "layout": "IPY_MODEL_d6374144ceb84f0fa8c9f0d479d3ff9c",
       "style": "IPY_MODEL_c885c3e2aa5d481a9af12448614463e8",
       "value": " 30/30 [01:26&lt;00:00,  2.90s/it]"
      }
     },
     "ff899c5417da4745b8db9620b2d9d587": {
      "model_module": "@jupyter-widgets/controls",
      "model_module_version": "1.5.0",
      "model_name": "DescriptionStyleModel",
      "state": {
       "description_width": ""
      }
     }
    },
    "version_major": 2,
    "version_minor": 0
   }
  }
 },
 "nbformat": 4,
 "nbformat_minor": 2
}
