{
 "cells": [
  {
   "cell_type": "markdown",
   "metadata": {},
   "source": [
    "# Image Classification - Search Space and HPO\n",
    "\n",
    ":label:`sec_imgadvanced`\n",
    "\n",
    "\n",
    "While the :ref:`sec_imgquick` introduced basic usage of AutoGluon `fit`, `evaluate`, `predict` with default configurations, this tutorial dives into the various options that you can specify for more advanced control over the fitting process.\n",
    "\n",
    "These options include: defining the search space of various hyperparameter values regarding to the training of neural networks, specifying how to actually search through this hyperparameter space, and how to schedule each particular job which actually train a network under a particular hyperparameter configuration.\n",
    "The advanced functionalities of AutoGluon allow you to leverage your external knowledge about your particular prediction problem and computing resources to guide the training process. If properly utilized, you may be able to achieve superior performance within less training time.\n",
    "\n",
    "\n",
    "We again begin by letting AutoGluon know that `ImageClassification` is the task of interest:"
   ]
  },
  {
   "cell_type": "code",
   "execution_count": 1,
   "metadata": {},
   "outputs": [
    {
     "name": "stderr",
     "output_type": "stream",
     "text": [
      "/home/ubuntu/anaconda3/envs/mxnet_p36/lib/python3.6/site-packages/mxnet/optimizer/optimizer.py:167: UserWarning: WARNING: New optimizer gluonnlp.optimizer.lamb.LAMB is overriding existing optimizer mxnet.optimizer.optimizer.LAMB\n",
      "  Optimizer.opt_registry[name].__name__))\n"
     ]
    }
   ],
   "source": [
    "import autogluon as ag\n",
    "from autogluon import ImageClassification as task"
   ]
  },
  {
   "cell_type": "markdown",
   "metadata": {},
   "source": [
    "## Create AutoGluon Dataset\n",
    "\n",
    "Let's first create the dataset using the same subset of the `Shopee-IET` dataset as before.\n",
    "Recall that as we only specify the `train_path`, a 90/10 train/validation split is automatically performed."
   ]
  },
  {
   "cell_type": "code",
   "execution_count": 2,
   "metadata": {},
   "outputs": [
    {
     "name": "stderr",
     "output_type": "stream",
     "text": [
      "Downloading shopee-iet.zip from https://autogluon.s3.amazonaws.com/datasets/shopee-iet.zip...\n"
     ]
    },
    {
     "data": {
      "application/vnd.jupyter.widget-view+json": {
       "model_id": "08c9430062f947f5bc6df91b1e169423",
       "version_major": 2,
       "version_minor": 0
      },
      "text/plain": [
       "VBox(children=(HBox(children=(IntProgress(value=0, layout=Layout(flex='2'), max=40895), HTML(value=''))), HTML…"
      ]
     },
     "metadata": {},
     "output_type": "display_data"
    },
    {
     "name": "stdout",
     "output_type": "stream",
     "text": [
      "\n"
     ]
    },
    {
     "data": {
      "text/plain": [
       "'data'"
      ]
     },
     "execution_count": 2,
     "metadata": {},
     "output_type": "execute_result"
    }
   ],
   "source": [
    "filename = ag.download('https://autogluon.s3.amazonaws.com/datasets/shopee-iet.zip')\n",
    "ag.unzip(filename)"
   ]
  },
  {
   "cell_type": "code",
   "execution_count": 3,
   "metadata": {},
   "outputs": [],
   "source": [
    "dataset = task.Dataset('data/train')"
   ]
  },
  {
   "cell_type": "markdown",
   "metadata": {},
   "source": [
    "## Specify Which Networks to try\n",
    "\n",
    "We start with specifying the pretrained neural network candidates.\n",
    "Given such a list, AutoGluon will try training different networks from this list to identify the best-performing candidate.\n",
    "This is an example of a :class:`autogluon.space.Categorical` search space, in which there are a limited number of values to choose from."
   ]
  },
  {
   "cell_type": "code",
   "execution_count": 4,
   "metadata": {},
   "outputs": [
    {
     "name": "stdout",
     "output_type": "stream",
     "text": [
      "Categorical['resnet50_v1b', AutoGluonObject]\n"
     ]
    }
   ],
   "source": [
    "import gluoncv as gcv\n",
    "\n",
    "@ag.func(\n",
    "    multiplier=ag.Categorical(0.25, 1.0),\n",
    ")\n",
    "def get_mobilenet(multiplier):\n",
    "    return gcv.model_zoo.MobileNetV2(multiplier=multiplier, classes=4)\n",
    "\n",
    "net = ag.space.Categorical('resnet50_v1b', get_mobilenet())\n",
    "print(net)"
   ]
  },
  {
   "cell_type": "markdown",
   "metadata": {},
   "source": [
    "## Specify The Optimizer and Its Search Spaece\n",
    "\n",
    "Similarly, we can manually specify the optimizer candidates.\n",
    "We can construct another search space to identify which optimizer works best for our task (as well as what are the best hyperparameter configurations for this optimizer).\n",
    "Additionally, we can customize the optimizer-specific hyperparameters search spaces, such as learning rate and weight decay using :class:`autogluon.space.Real`."
   ]
  },
  {
   "cell_type": "code",
   "execution_count": 5,
   "metadata": {},
   "outputs": [
    {
     "name": "stdout",
     "output_type": "stream",
     "text": [
      "AutoGluonObject -- NAG\n"
     ]
    }
   ],
   "source": [
    "from mxnet import optimizer as optim\n",
    "\n",
    "@ag.obj(\n",
    "    learning_rate=ag.space.Real(1e-4, 1e-2, log=True),\n",
    "    momentum=ag.space.Real(0.85, 0.95),\n",
    "    wd=ag.space.Real(1e-6, 1e-2, log=True)\n",
    ")\n",
    "class NAG(optim.NAG):\n",
    "    pass\n",
    "\n",
    "optimizer = NAG()\n",
    "print(optimizer)"
   ]
  },
  {
   "cell_type": "markdown",
   "metadata": {},
   "source": [
    "## Search Algorithms\n",
    "\n",
    "In AutoGluon, :meth:`autogluon.searcher` supports different search search_strategys for both hyperparameter optimization and architecture search.\n",
    "Beyond simply specifying the space of hyperparameter configurations to search over, you can also tell AutoGluon what strategy it should employ to actually search through this space. \n",
    "This process of finding good hyperparameters from a given search space is commonly referred to as *hyperparameter optimization* (HPO) or *hyperparameter tuning*. \n",
    ":meth:`autogluon.scheduler` orchestrates how individual training jobs are scheduled.\n",
    "We currently support random search, Hyperband and Bayesian Optimization. Although these are simple techniques, they can be surprisingly powerful when parallelized, which can be easily enabled in AutoGluon.\n",
    "\n",
    "### Bayesian Optimization\n",
    "\n",
    "Here is an example of using Bayesian Optimization using :class:`autogluon.searcher.SKoptSearcher`.\n",
    "\n",
    "Bayesian Optimization fits a probabilistic *surrogate model* to estimate the function that relates each hyperparameter configuration to the resulting performance of a model trained under this hyperparameter configuration.\n",
    "\n",
    "You can specify what kind of surrogate model to use (Gaussian Process, Random Forest, etc), as well as which acquisition function to employ (eg. Expected Improvement, Lower Confidence Bound, etc).  Below, we tell `fit` to perform Bayesian optimization using a Random Forest surrogate model with acquisitions based on Expected Improvement.\n",
    "More detail in :class:`autogluon.searcher.SKoptSearcher`"
   ]
  },
  {
   "cell_type": "code",
   "execution_count": 6,
   "metadata": {},
   "outputs": [
    {
     "name": "stderr",
     "output_type": "stream",
     "text": [
      "Starting Experiments\n",
      "Num of Finished Tasks is 0\n",
      "Time out (secs) is 120\n"
     ]
    },
    {
     "name": "stdout",
     "output_type": "stream",
     "text": [
      "scheduler: FIFOScheduler(\n",
      "DistributedResourceManager{\n",
      "(Remote: Remote REMOTE_ID: 0, \n",
      "\t<Remote: 'inproc://172.31.37.165/7216/1' processes=1 threads=8, memory=64.28 GB>, Resource: NodeResourceManager(8 CPUs, 1 GPUs))\n",
      "})\n",
      "\n",
      "\n",
      "\n",
      "\n",
      "\n"
     ]
    },
    {
     "name": "stderr",
     "output_type": "stream",
     "text": [
      "Saving Training Curve in checkpoint/plot_training_curves.png\n"
     ]
    },
    {
     "data": {
      "image/png": "[encoded data removed]",
      "text/plain": [
       "<Figure size 432x288 with 1 Axes>"
      ]
     },
     "metadata": {
      "needs_background": "light"
     },
     "output_type": "display_data"
    },
    {
     "name": "stdout",
     "output_type": "stream",
     "text": [
      "Top-1 val acc: 0.781\n"
     ]
    }
   ],
   "source": [
    "time_limits = 2*60\n",
    "epochs = 10\n",
    "\n",
    "classifier = task.fit(dataset,\n",
    "                      net=net,\n",
    "                      optimizer=optimizer,\n",
    "                      search_strategy='skopt', \n",
    "                      search_options={'base_estimator': 'RF', 'acq_func': 'EI'},\n",
    "                      time_limits=time_limits,\n",
    "                      epochs=epochs,\n",
    "                      ngpus_per_trial=1)\n",
    "\n",
    "print('Top-1 val acc: %.3f' % classifier.results[classifier.results['reward_attr']])"
   ]
  },
  {
   "cell_type": "markdown",
   "metadata": {},
   "source": [
    "Load the test dataset and evaluate:"
   ]
  },
  {
   "cell_type": "code",
   "execution_count": 7,
   "metadata": {},
   "outputs": [
    {
     "data": {
      "application/vnd.jupyter.widget-view+json": {
       "model_id": "9eb49ae76da14984b074174fec82e62c",
       "version_major": 2,
       "version_minor": 0
      },
      "text/plain": [
       "VBox(children=(HBox(children=(IntProgress(value=0, max=1), HTML(value=''))), HTML(value='')))"
      ]
     },
     "metadata": {},
     "output_type": "display_data"
    },
    {
     "name": "stdout",
     "output_type": "stream",
     "text": [
      "\n",
      "Top-1 test acc: 0.922\n"
     ]
    }
   ],
   "source": [
    "test_dataset = task.Dataset('data/test', train=False)\n",
    "\n",
    "test_acc = classifier.evaluate(test_dataset)\n",
    "print('Top-1 test acc: %.3f' % test_acc)"
   ]
  },
  {
   "cell_type": "markdown",
   "metadata": {},
   "source": [
    "### Hyperband Early stopping\n",
    "\n",
    "AutoGluon currently supports scheduling trials in serial order and with early stopping\n",
    "(eg. if the performance of the model early within training already looks bad, the trial may be terminated early to free up resources).\n",
    "Here is an example of using an early stopping scheduler :class:`autogluon.scheduler.HyperbandScheduler`:"
   ]
  },
  {
   "cell_type": "code",
   "execution_count": 8,
   "metadata": {},
   "outputs": [
    {
     "name": "stderr",
     "output_type": "stream",
     "text": [
      "grace_period is deprecated, use scheduler_options={'grace_period': ...} instead\n",
      "Starting Experiments\n",
      "Num of Finished Tasks is 0\n",
      "Num of Pending Tasks is 16\n"
     ]
    },
    {
     "name": "stdout",
     "output_type": "stream",
     "text": [
      "scheduler: HyperbandScheduler(terminator: HyperbandStopping_Manager(reward_attr: classification_reward, time_attr: epoch, reduction_factor: 3, max_t: 10, brackets: [Bracket: Iter 9.000: None | Iter 3.000: None | Iter 1.000: None])\n"
     ]
    },
    {
     "data": {
      "application/vnd.jupyter.widget-view+json": {
       "model_id": "11049c6e565641d49930dd6b813b289c",
       "version_major": 2,
       "version_minor": 0
      },
      "text/plain": [
       "HBox(children=(FloatProgress(value=0.0, max=16.0), HTML(value='')))"
      ]
     },
     "metadata": {},
     "output_type": "display_data"
    },
    {
     "name": "stdout",
     "output_type": "stream",
     "text": [
      "\n",
      "\n"
     ]
    },
    {
     "name": "stderr",
     "output_type": "stream",
     "text": [
      "Saving Training Curve in checkpoint/plot_training_curves.png\n"
     ]
    },
    {
     "data": {
      "image/png": "[encoded data removed]",
      "text/plain": [
       "<Figure size 432x288 with 1 Axes>"
      ]
     },
     "metadata": {
      "needs_background": "light"
     },
     "output_type": "display_data"
    },
    {
     "name": "stdout",
     "output_type": "stream",
     "text": [
      "Top-1 val acc: 0.812\n"
     ]
    }
   ],
   "source": [
    "search_strategy = 'hyperband'\n",
    "\n",
    "classifier = task.fit(dataset,\n",
    "                      net=net,\n",
    "                      optimizer=optimizer,\n",
    "                      lr_scheduler=ag.space.Categorical('poly', 'cosine'),\n",
    "                      search_strategy=search_strategy,\n",
    "                      epochs=epochs,\n",
    "                      num_trials=16,\n",
    "                      verbose=False,\n",
    "                      plot_results=True,\n",
    "                      ngpus_per_trial=1,\n",
    "                      grace_period=1)\n",
    "\n",
    "print('Top-1 val acc: %.3f' % classifier.results[classifier.results['reward_attr']])"
   ]
  },
  {
   "cell_type": "markdown",
   "metadata": {},
   "source": [
    "The test top-1 accuracy are:"
   ]
  },
  {
   "cell_type": "code",
   "execution_count": 9,
   "metadata": {},
   "outputs": [
    {
     "data": {
      "application/vnd.jupyter.widget-view+json": {
       "model_id": "30e427aa102a40958f4158b85719b3b8",
       "version_major": 2,
       "version_minor": 0
      },
      "text/plain": [
       "VBox(children=(HBox(children=(IntProgress(value=0, max=1), HTML(value=''))), HTML(value='')))"
      ]
     },
     "metadata": {},
     "output_type": "display_data"
    },
    {
     "name": "stdout",
     "output_type": "stream",
     "text": [
      "\n",
      "Top-1 test acc: 0.922\n"
     ]
    }
   ],
   "source": [
    "test_acc = classifier.evaluate(test_dataset)\n",
    "print('Top-1 test acc: %.3f' % test_acc)"
   ]
  },
  {
   "cell_type": "markdown",
   "metadata": {},
   "source": [
    "Please see comparison of different search algorithms and scheduling strategies :ref:`course_alg`.\n",
    "More options using fit is available at :class:`autogluon.task.ImageClassification`.\n",
    "\n",
    "Finish and exit:"
   ]
  },
  {
   "cell_type": "code",
   "execution_count": 11,
   "metadata": {},
   "outputs": [],
   "source": [
    "# ag.done()"
   ]
  },
  {
   "cell_type": "code",
   "execution_count": null,
   "metadata": {},
   "outputs": [],
   "source": []
  }
 ],
 "metadata": {
  "kernelspec": {
   "display_name": "Python [conda env:mxnet_p36] *",
   "language": "python",
   "name": "conda-env-mxnet_p36-py"
  },
  "language_info": {
   "codemirror_mode": {
    "name": "ipython",
    "version": 3
   },
   "file_extension": ".py",
   "mimetype": "text/x-python",
   "name": "python",
   "nbconvert_exporter": "python",
   "pygments_lexer": "ipython3",
   "version": "3.6.10"
  },
  "widgets": {
   "application/vnd.jupyter.widget-state+json": {
    "state": {
     "0982f62e3b804c17b5d7e00256424583": {
      "model_module": "@jupyter-widgets/base",
      "model_module_version": "1.2.0",
      "model_name": "LayoutModel",
      "state": {}
     },
     "100874d357e042c5b51867c83704b727": {
      "model_module": "@jupyter-widgets/controls",
      "model_module_version": "1.5.0",
      "model_name": "DescriptionStyleModel",
      "state": {
       "description_width": ""
      }
     },
     "1177ea817a95431995cd4d75c02e3ded": {
      "model_module": "@jupyter-widgets/controls",
      "model_module_version": "1.5.0",
      "model_name": "DescriptionStyleModel",
      "state": {
       "description_width": ""
      }
     },
     "121741fb798246d4b526327ea488b022": {
      "model_module": "@jupyter-widgets/base",
      "model_module_version": "1.2.0",
      "model_name": "LayoutModel",
      "state": {}
     },
     "1505da151ead4085bbbf705d10848daa": {
      "model_module": "@jupyter-widgets/base",
      "model_module_version": "1.2.0",
      "model_name": "LayoutModel",
      "state": {}
     },
     "17d1be76ede841df85e10e06d95e3c22": {
      "model_module": "@jupyter-widgets/controls",
      "model_module_version": "1.5.0",
      "model_name": "HTMLModel",
      "state": {
       "layout": "IPY_MODEL_2b98d70a7bf044a4bca57c19b2ef984a",
       "style": "IPY_MODEL_1177ea817a95431995cd4d75c02e3ded"
      }
     },
     "1f51d77c1e3646e7993d91b84c2c537b": {
      "model_module": "@jupyter-widgets/controls",
      "model_module_version": "1.5.0",
      "model_name": "VBoxModel",
      "state": {
       "children": [
        "IPY_MODEL_8c302fb0abdf4e51b32ddfb37d5502c7",
        "IPY_MODEL_17d1be76ede841df85e10e06d95e3c22"
       ],
       "layout": "IPY_MODEL_d0b05d7f7bfa4e5fb6013a8f9b2a68a2"
      }
     },
     "1f88b426c78b480a8b5d44ce107791a2": {
      "model_module": "@jupyter-widgets/controls",
      "model_module_version": "1.5.0",
      "model_name": "IntProgressModel",
      "state": {
       "bar_style": "success",
       "description": "accuracy: 0.9375: 100%",
       "layout": "IPY_MODEL_f586be9e836348fb890cac4e388a9e17",
       "max": 1,
       "style": "IPY_MODEL_78150a836be94270a384aab49371b04b",
       "value": 1
      }
     },
     "252273961265411792197d38c6f97407": {
      "model_module": "@jupyter-widgets/base",
      "model_module_version": "1.2.0",
      "model_name": "LayoutModel",
      "state": {}
     },
     "27d129eb01de4de697dd78c0bb55175a": {
      "model_module": "@jupyter-widgets/controls",
      "model_module_version": "1.5.0",
      "model_name": "IntProgressModel",
      "state": {
       "bar_style": "success",
       "description": "accuracy: 0.953125: 100%",
       "layout": "IPY_MODEL_efe543f8e88f4022a2d232ba7a02d5d1",
       "max": 1,
       "style": "IPY_MODEL_bdf2570d34e6431ca29844331fa2b94f",
       "value": 1
      }
     },
     "2856731bc3eb4611a7f26878a7692a8b": {
      "model_module": "@jupyter-widgets/controls",
      "model_module_version": "1.5.0",
      "model_name": "IntProgressModel",
      "state": {
       "bar_style": "success",
       "description": "100%",
       "layout": "IPY_MODEL_e655a826b7fb4c08bf5c8a6c7716488e",
       "max": 16,
       "style": "IPY_MODEL_5ee1568d135643b3b0e9274ef13b33d1",
       "value": 16
      }
     },
     "2ae08a2cbeda4e20a191d96103824293": {
      "model_module": "@jupyter-widgets/base",
      "model_module_version": "1.2.0",
      "model_name": "LayoutModel",
      "state": {}
     },
     "2b98d70a7bf044a4bca57c19b2ef984a": {
      "model_module": "@jupyter-widgets/base",
      "model_module_version": "1.2.0",
      "model_name": "LayoutModel",
      "state": {}
     },
     "2eae6a1ee3a645e0b343c049110ba4f3": {
      "model_module": "@jupyter-widgets/controls",
      "model_module_version": "1.5.0",
      "model_name": "DescriptionStyleModel",
      "state": {
       "description_width": ""
      }
     },
     "31b2a6e102dc4140bd96f438334a0ea1": {
      "model_module": "@jupyter-widgets/controls",
      "model_module_version": "1.5.0",
      "model_name": "HBoxModel",
      "state": {
       "children": [
        "IPY_MODEL_27d129eb01de4de697dd78c0bb55175a",
        "IPY_MODEL_6b04a810e9d34faaa46a1d5bf5875d8a"
       ],
       "layout": "IPY_MODEL_b98ae88fb2ed4959820899e4602b43f6"
      }
     },
     "3358be381a7549a5a6a30f2909631f44": {
      "model_module": "@jupyter-widgets/base",
      "model_module_version": "1.2.0",
      "model_name": "LayoutModel",
      "state": {}
     },
     "36f44534cbc0438da077a6938d1b2ced": {
      "model_module": "@jupyter-widgets/controls",
      "model_module_version": "1.5.0",
      "model_name": "IntProgressModel",
      "state": {
       "bar_style": "success",
       "description": "100%",
       "layout": "IPY_MODEL_0982f62e3b804c17b5d7e00256424583",
       "max": 2,
       "style": "IPY_MODEL_caf73e848e8c459b8e4b0ad2b4d0e345",
       "value": 2
      }
     },
     "3b9732bb27b14e128c9312312f1f4a48": {
      "model_module": "@jupyter-widgets/base",
      "model_module_version": "1.2.0",
      "model_name": "LayoutModel",
      "state": {}
     },
     "42f1cac1905145b086b99aec1500ced9": {
      "model_module": "@jupyter-widgets/base",
      "model_module_version": "1.2.0",
      "model_name": "LayoutModel",
      "state": {}
     },
     "4394cb10c88b470189a17ee1849d2804": {
      "model_module": "@jupyter-widgets/controls",
      "model_module_version": "1.5.0",
      "model_name": "HTMLModel",
      "state": {
       "layout": "IPY_MODEL_92dde42283104ba8875feb49b65405f5",
       "style": "IPY_MODEL_cc91584c6d7e4d75ae156344b81fbf50",
       "value": " 1/1 [00:06&lt;00:00,  6.30s/it]"
      }
     },
     "48146fd39af240d1accfb8ca595b20a8": {
      "model_module": "@jupyter-widgets/controls",
      "model_module_version": "1.5.0",
      "model_name": "DescriptionStyleModel",
      "state": {
       "description_width": ""
      }
     },
     "48f75ecc31f8462ca4e711b8775ef446": {
      "model_module": "@jupyter-widgets/controls",
      "model_module_version": "1.5.0",
      "model_name": "DescriptionStyleModel",
      "state": {
       "description_width": ""
      }
     },
     "4b1e1dd73e9d49e9890c8523fde6b7b3": {
      "model_module": "@jupyter-widgets/controls",
      "model_module_version": "1.5.0",
      "model_name": "HTMLModel",
      "state": {
       "layout": "IPY_MODEL_60b38a806aeb49a4968bfc62853ad0b5",
       "style": "IPY_MODEL_48146fd39af240d1accfb8ca595b20a8",
       "value": " 2/2 [03:08&lt;00:00, 94.13s/it]"
      }
     },
     "4e4a7f9625a04f40802819b5464ffd62": {
      "model_module": "@jupyter-widgets/controls",
      "model_module_version": "1.5.0",
      "model_name": "HTMLModel",
      "state": {
       "layout": "IPY_MODEL_a07651634c8941189cfd35902258c8a6",
       "style": "IPY_MODEL_eb194c6fd8534dbd808a17ab4a3d24a5"
      }
     },
     "57fc909a20ab427f820a980e679bf6f0": {
      "model_module": "@jupyter-widgets/controls",
      "model_module_version": "1.5.0",
      "model_name": "HTMLModel",
      "state": {
       "layout": "IPY_MODEL_69ac9495e6c54d26b09fa41a2882d9de",
       "style": "IPY_MODEL_9f5e38a1f03d49bebe9cc22cd6142667"
      }
     },
     "5ee1568d135643b3b0e9274ef13b33d1": {
      "model_module": "@jupyter-widgets/controls",
      "model_module_version": "1.5.0",
      "model_name": "ProgressStyleModel",
      "state": {
       "description_width": "initial"
      }
     },
     "60b38a806aeb49a4968bfc62853ad0b5": {
      "model_module": "@jupyter-widgets/base",
      "model_module_version": "1.2.0",
      "model_name": "LayoutModel",
      "state": {}
     },
     "63321d057e774122ae6ae5e99f55a0f9": {
      "model_module": "@jupyter-widgets/base",
      "model_module_version": "1.2.0",
      "model_name": "LayoutModel",
      "state": {}
     },
     "633df7fdc3ed41869f7c1edc9e4004cb": {
      "model_module": "@jupyter-widgets/controls",
      "model_module_version": "1.5.0",
      "model_name": "HTMLModel",
      "state": {
       "layout": "IPY_MODEL_63321d057e774122ae6ae5e99f55a0f9",
       "style": "IPY_MODEL_100874d357e042c5b51867c83704b727",
       "value": " 2/2 [00:12&lt;00:00,  6.28s/it]"
      }
     },
     "69ac9495e6c54d26b09fa41a2882d9de": {
      "model_module": "@jupyter-widgets/base",
      "model_module_version": "1.2.0",
      "model_name": "LayoutModel",
      "state": {}
     },
     "6b04a810e9d34faaa46a1d5bf5875d8a": {
      "model_module": "@jupyter-widgets/controls",
      "model_module_version": "1.5.0",
      "model_name": "HTMLModel",
      "state": {
       "layout": "IPY_MODEL_8ee69313fabb4c5692825e9f45b76341",
       "style": "IPY_MODEL_99c95d598fb541fe98e7db9967552596",
       "value": " 1/1 [09:55&lt;00:00, 595.93s/it]"
      }
     },
     "6fcf8d85db8c46e989c1a2e55575edde": {
      "model_module": "@jupyter-widgets/controls",
      "model_module_version": "1.5.0",
      "model_name": "ProgressStyleModel",
      "state": {
       "description_width": "initial"
      }
     },
     "763e0e4ea0b048be998b439386c54cec": {
      "model_module": "@jupyter-widgets/controls",
      "model_module_version": "1.5.0",
      "model_name": "HBoxModel",
      "state": {
       "children": [
        "IPY_MODEL_2856731bc3eb4611a7f26878a7692a8b",
        "IPY_MODEL_d6bfff7369214641aa1675f87cf5d582"
       ],
       "layout": "IPY_MODEL_9eb22eae95bd4a6aaecbf93e8502cae7"
      }
     },
     "78150a836be94270a384aab49371b04b": {
      "model_module": "@jupyter-widgets/controls",
      "model_module_version": "1.5.0",
      "model_name": "ProgressStyleModel",
      "state": {
       "description_width": "initial"
      }
     },
     "78e775f4f6ae45a08ae23f4d26221362": {
      "model_module": "@jupyter-widgets/base",
      "model_module_version": "1.2.0",
      "model_name": "LayoutModel",
      "state": {}
     },
     "7b12843b2bf742809f03e2e3d641453f": {
      "model_module": "@jupyter-widgets/controls",
      "model_module_version": "1.5.0",
      "model_name": "HTMLModel",
      "state": {
       "layout": "IPY_MODEL_af72e6ad8c0a49f2912435f569531547",
       "style": "IPY_MODEL_96242e23a7544492b0d2e9ed9099b6e6",
       "value": " 1/1 [00:05&lt;00:00,  5.99s/it]"
      }
     },
     "7b831536a9f0412f9f83a9588307677b": {
      "model_module": "@jupyter-widgets/controls",
      "model_module_version": "1.5.0",
      "model_name": "HBoxModel",
      "state": {
       "children": [
        "IPY_MODEL_ddc3b2718447459db97facd28200544f",
        "IPY_MODEL_abadb2dce67f40daa63b275841b179af"
       ],
       "layout": "IPY_MODEL_b267da25ab5841ddb5fb49535a967bc5"
      }
     },
     "856e0780a1bb45e0a9355947f6084824": {
      "model_module": "@jupyter-widgets/controls",
      "model_module_version": "1.5.0",
      "model_name": "ProgressStyleModel",
      "state": {
       "description_width": "initial"
      }
     },
     "878d9ba4eec24048a78546f7c81741c9": {
      "model_module": "@jupyter-widgets/base",
      "model_module_version": "1.2.0",
      "model_name": "LayoutModel",
      "state": {}
     },
     "8791d2693b7a4fd78d05095dc5c58582": {
      "model_module": "@jupyter-widgets/controls",
      "model_module_version": "1.5.0",
      "model_name": "DescriptionStyleModel",
      "state": {
       "description_width": ""
      }
     },
     "8c302fb0abdf4e51b32ddfb37d5502c7": {
      "model_module": "@jupyter-widgets/controls",
      "model_module_version": "1.5.0",
      "model_name": "HBoxModel",
      "state": {
       "children": [
        "IPY_MODEL_1f88b426c78b480a8b5d44ce107791a2",
        "IPY_MODEL_4394cb10c88b470189a17ee1849d2804"
       ],
       "layout": "IPY_MODEL_1505da151ead4085bbbf705d10848daa"
      }
     },
     "8ee69313fabb4c5692825e9f45b76341": {
      "model_module": "@jupyter-widgets/base",
      "model_module_version": "1.2.0",
      "model_name": "LayoutModel",
      "state": {}
     },
     "8fd95eecc3034dc982a64c1a379405ca": {
      "model_module": "@jupyter-widgets/controls",
      "model_module_version": "1.5.0",
      "model_name": "ProgressStyleModel",
      "state": {
       "description_width": "initial"
      }
     },
     "92dde42283104ba8875feb49b65405f5": {
      "model_module": "@jupyter-widgets/base",
      "model_module_version": "1.2.0",
      "model_name": "LayoutModel",
      "state": {}
     },
     "96242e23a7544492b0d2e9ed9099b6e6": {
      "model_module": "@jupyter-widgets/controls",
      "model_module_version": "1.5.0",
      "model_name": "DescriptionStyleModel",
      "state": {
       "description_width": ""
      }
     },
     "99c95d598fb541fe98e7db9967552596": {
      "model_module": "@jupyter-widgets/controls",
      "model_module_version": "1.5.0",
      "model_name": "DescriptionStyleModel",
      "state": {
       "description_width": ""
      }
     },
     "9eb22eae95bd4a6aaecbf93e8502cae7": {
      "model_module": "@jupyter-widgets/base",
      "model_module_version": "1.2.0",
      "model_name": "LayoutModel",
      "state": {}
     },
     "9f5e38a1f03d49bebe9cc22cd6142667": {
      "model_module": "@jupyter-widgets/controls",
      "model_module_version": "1.5.0",
      "model_name": "DescriptionStyleModel",
      "state": {
       "description_width": ""
      }
     },
     "a07651634c8941189cfd35902258c8a6": {
      "model_module": "@jupyter-widgets/base",
      "model_module_version": "1.2.0",
      "model_name": "LayoutModel",
      "state": {}
     },
     "a2d43573f6644bccae17f93d9f2ca25e": {
      "model_module": "@jupyter-widgets/controls",
      "model_module_version": "1.5.0",
      "model_name": "HTMLModel",
      "state": {
       "layout": "IPY_MODEL_878d9ba4eec24048a78546f7c81741c9",
       "style": "IPY_MODEL_2eae6a1ee3a645e0b343c049110ba4f3"
      }
     },
     "a2eccfb447224ca0bb310fb6b19ba85a": {
      "model_module": "@jupyter-widgets/controls",
      "model_module_version": "1.5.0",
      "model_name": "HBoxModel",
      "state": {
       "children": [
        "IPY_MODEL_ec5088958a4d464389421e0bc66f286b",
        "IPY_MODEL_7b12843b2bf742809f03e2e3d641453f"
       ],
       "layout": "IPY_MODEL_da03a67e2f7d4365a5d8460a1fe7bac3"
      }
     },
     "abadb2dce67f40daa63b275841b179af": {
      "model_module": "@jupyter-widgets/controls",
      "model_module_version": "1.5.0",
      "model_name": "HTMLModel",
      "state": {
       "layout": "IPY_MODEL_fb306bd8776f459b8f32af1e73a0405a",
       "style": "IPY_MODEL_48f75ecc31f8462ca4e711b8775ef446",
       "value": " 16/16 [00:43&lt;00:00,  2.73s/it]"
      }
     },
     "ac4a02c7fd39421f8d64a1f8f3f60737": {
      "model_module": "@jupyter-widgets/base",
      "model_module_version": "1.2.0",
      "model_name": "LayoutModel",
      "state": {}
     },
     "af72e6ad8c0a49f2912435f569531547": {
      "model_module": "@jupyter-widgets/base",
      "model_module_version": "1.2.0",
      "model_name": "LayoutModel",
      "state": {}
     },
     "b267da25ab5841ddb5fb49535a967bc5": {
      "model_module": "@jupyter-widgets/base",
      "model_module_version": "1.2.0",
      "model_name": "LayoutModel",
      "state": {}
     },
     "b5ca196fe0a14af99966fc60ca78fc6b": {
      "model_module": "@jupyter-widgets/controls",
      "model_module_version": "1.5.0",
      "model_name": "IntProgressModel",
      "state": {
       "bar_style": "success",
       "description": "accuracy: 0.890625: 100%",
       "layout": "IPY_MODEL_b63798a78cd948a5ab085ded25d747a3",
       "max": 1,
       "style": "IPY_MODEL_6fcf8d85db8c46e989c1a2e55575edde",
       "value": 1
      }
     },
     "b63798a78cd948a5ab085ded25d747a3": {
      "model_module": "@jupyter-widgets/base",
      "model_module_version": "1.2.0",
      "model_name": "LayoutModel",
      "state": {}
     },
     "b8bf577b1e33455cab4e48e7aa6bd18d": {
      "model_module": "@jupyter-widgets/controls",
      "model_module_version": "1.5.0",
      "model_name": "HBoxModel",
      "state": {
       "children": [
        "IPY_MODEL_d80e318c5197499f8a65f4dc8ae88477",
        "IPY_MODEL_4b1e1dd73e9d49e9890c8523fde6b7b3"
       ],
       "layout": "IPY_MODEL_3358be381a7549a5a6a30f2909631f44"
      }
     },
     "b98ae88fb2ed4959820899e4602b43f6": {
      "model_module": "@jupyter-widgets/base",
      "model_module_version": "1.2.0",
      "model_name": "LayoutModel",
      "state": {}
     },
     "bdf2570d34e6431ca29844331fa2b94f": {
      "model_module": "@jupyter-widgets/controls",
      "model_module_version": "1.5.0",
      "model_name": "ProgressStyleModel",
      "state": {
       "description_width": "initial"
      }
     },
     "c5f998bd592848d6a34210e43242c2d2": {
      "model_module": "@jupyter-widgets/controls",
      "model_module_version": "1.5.0",
      "model_name": "HTMLModel",
      "state": {
       "layout": "IPY_MODEL_3b9732bb27b14e128c9312312f1f4a48",
       "style": "IPY_MODEL_8791d2693b7a4fd78d05095dc5c58582",
       "value": " 1/1 [00:06&lt;00:00,  6.52s/it]"
      }
     },
     "c620f07561c2403ea6ab74be440e9697": {
      "model_module": "@jupyter-widgets/controls",
      "model_module_version": "1.5.0",
      "model_name": "ProgressStyleModel",
      "state": {
       "description_width": "initial"
      }
     },
     "c778782ad4de4ddb88c2f921b21f9d30": {
      "model_module": "@jupyter-widgets/base",
      "model_module_version": "1.2.0",
      "model_name": "LayoutModel",
      "state": {}
     },
     "caf73e848e8c459b8e4b0ad2b4d0e345": {
      "model_module": "@jupyter-widgets/controls",
      "model_module_version": "1.5.0",
      "model_name": "ProgressStyleModel",
      "state": {
       "description_width": "initial"
      }
     },
     "cc91584c6d7e4d75ae156344b81fbf50": {
      "model_module": "@jupyter-widgets/controls",
      "model_module_version": "1.5.0",
      "model_name": "DescriptionStyleModel",
      "state": {
       "description_width": ""
      }
     },
     "cd2851c6d417407bbe69c19a2cf14c74": {
      "model_module": "@jupyter-widgets/controls",
      "model_module_version": "1.5.0",
      "model_name": "VBoxModel",
      "state": {
       "children": [
        "IPY_MODEL_a2eccfb447224ca0bb310fb6b19ba85a",
        "IPY_MODEL_a2d43573f6644bccae17f93d9f2ca25e"
       ],
       "layout": "IPY_MODEL_ac4a02c7fd39421f8d64a1f8f3f60737"
      }
     },
     "d0b05d7f7bfa4e5fb6013a8f9b2a68a2": {
      "model_module": "@jupyter-widgets/base",
      "model_module_version": "1.2.0",
      "model_name": "LayoutModel",
      "state": {}
     },
     "d4bc994409ef49b98ca012846f28dd78": {
      "model_module": "@jupyter-widgets/controls",
      "model_module_version": "1.5.0",
      "model_name": "HBoxModel",
      "state": {
       "children": [
        "IPY_MODEL_36f44534cbc0438da077a6938d1b2ced",
        "IPY_MODEL_633df7fdc3ed41869f7c1edc9e4004cb"
       ],
       "layout": "IPY_MODEL_252273961265411792197d38c6f97407"
      }
     },
     "d6bfff7369214641aa1675f87cf5d582": {
      "model_module": "@jupyter-widgets/controls",
      "model_module_version": "1.5.0",
      "model_name": "HTMLModel",
      "state": {
       "layout": "IPY_MODEL_ecf0026e5155445991c02373a5681b55",
       "style": "IPY_MODEL_d7a16264121f462ab95155910e692bc9",
       "value": " 16/16 [09:49&lt;00:00, 36.87s/it]"
      }
     },
     "d7a16264121f462ab95155910e692bc9": {
      "model_module": "@jupyter-widgets/controls",
      "model_module_version": "1.5.0",
      "model_name": "DescriptionStyleModel",
      "state": {
       "description_width": ""
      }
     },
     "d80e318c5197499f8a65f4dc8ae88477": {
      "model_module": "@jupyter-widgets/controls",
      "model_module_version": "1.5.0",
      "model_name": "IntProgressModel",
      "state": {
       "bar_style": "success",
       "description": "100%",
       "layout": "IPY_MODEL_da403b31335640d1914c57c709ee0cbc",
       "max": 2,
       "style": "IPY_MODEL_856e0780a1bb45e0a9355947f6084824",
       "value": 2
      }
     },
     "d905464b4da24e35bfedae42c3eef534": {
      "model_module": "@jupyter-widgets/controls",
      "model_module_version": "1.5.0",
      "model_name": "HBoxModel",
      "state": {
       "children": [
        "IPY_MODEL_b5ca196fe0a14af99966fc60ca78fc6b",
        "IPY_MODEL_c5f998bd592848d6a34210e43242c2d2"
       ],
       "layout": "IPY_MODEL_121741fb798246d4b526327ea488b022"
      }
     },
     "da03a67e2f7d4365a5d8460a1fe7bac3": {
      "model_module": "@jupyter-widgets/base",
      "model_module_version": "1.2.0",
      "model_name": "LayoutModel",
      "state": {}
     },
     "da403b31335640d1914c57c709ee0cbc": {
      "model_module": "@jupyter-widgets/base",
      "model_module_version": "1.2.0",
      "model_name": "LayoutModel",
      "state": {}
     },
     "ddc3b2718447459db97facd28200544f": {
      "model_module": "@jupyter-widgets/controls",
      "model_module_version": "1.5.0",
      "model_name": "IntProgressModel",
      "state": {
       "bar_style": "success",
       "description": "100%",
       "layout": "IPY_MODEL_78e775f4f6ae45a08ae23f4d26221362",
       "max": 16,
       "style": "IPY_MODEL_c620f07561c2403ea6ab74be440e9697",
       "value": 16
      }
     },
     "e13fdd2c2801493fba598838e7346d69": {
      "model_module": "@jupyter-widgets/controls",
      "model_module_version": "1.5.0",
      "model_name": "VBoxModel",
      "state": {
       "children": [
        "IPY_MODEL_31b2a6e102dc4140bd96f438334a0ea1",
        "IPY_MODEL_57fc909a20ab427f820a980e679bf6f0"
       ],
       "layout": "IPY_MODEL_42f1cac1905145b086b99aec1500ced9"
      }
     },
     "e655a826b7fb4c08bf5c8a6c7716488e": {
      "model_module": "@jupyter-widgets/base",
      "model_module_version": "1.2.0",
      "model_name": "LayoutModel",
      "state": {}
     },
     "eb194c6fd8534dbd808a17ab4a3d24a5": {
      "model_module": "@jupyter-widgets/controls",
      "model_module_version": "1.5.0",
      "model_name": "DescriptionStyleModel",
      "state": {
       "description_width": ""
      }
     },
     "ec5088958a4d464389421e0bc66f286b": {
      "model_module": "@jupyter-widgets/controls",
      "model_module_version": "1.5.0",
      "model_name": "IntProgressModel",
      "state": {
       "bar_style": "success",
       "description": "accuracy: 0.890625: 100%",
       "layout": "IPY_MODEL_c778782ad4de4ddb88c2f921b21f9d30",
       "max": 1,
       "style": "IPY_MODEL_8fd95eecc3034dc982a64c1a379405ca",
       "value": 1
      }
     },
     "ecf0026e5155445991c02373a5681b55": {
      "model_module": "@jupyter-widgets/base",
      "model_module_version": "1.2.0",
      "model_name": "LayoutModel",
      "state": {}
     },
     "efe543f8e88f4022a2d232ba7a02d5d1": {
      "model_module": "@jupyter-widgets/base",
      "model_module_version": "1.2.0",
      "model_name": "LayoutModel",
      "state": {}
     },
     "f586be9e836348fb890cac4e388a9e17": {
      "model_module": "@jupyter-widgets/base",
      "model_module_version": "1.2.0",
      "model_name": "LayoutModel",
      "state": {}
     },
     "fb306bd8776f459b8f32af1e73a0405a": {
      "model_module": "@jupyter-widgets/base",
      "model_module_version": "1.2.0",
      "model_name": "LayoutModel",
      "state": {}
     },
     "fd631ff022224ddba985e7fd3e3436d2": {
      "model_module": "@jupyter-widgets/controls",
      "model_module_version": "1.5.0",
      "model_name": "VBoxModel",
      "state": {
       "children": [
        "IPY_MODEL_d905464b4da24e35bfedae42c3eef534",
        "IPY_MODEL_4e4a7f9625a04f40802819b5464ffd62"
       ],
       "layout": "IPY_MODEL_2ae08a2cbeda4e20a191d96103824293"
      }
     }
    },
    "version_major": 2,
    "version_minor": 0
   }
  }
 },
 "nbformat": 4,
 "nbformat_minor": 2
}
